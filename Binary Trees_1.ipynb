{
 "cells": [
  {
   "cell_type": "code",
   "execution_count": 2,
   "id": "5df9f2c7",
   "metadata": {},
   "outputs": [],
   "source": [
    "class BinarytreeNode:\n",
    "    \n",
    "    def __init__(self,data):\n",
    "        \n",
    "        self.data = data\n",
    "        self.left = None\n",
    "        self.right = None\n",
    "        \n",
    "   #This will make any of the data to entererd in the function to be a node \n",
    "# Note: Connections are still not established"
   ]
  },
  {
   "cell_type": "code",
   "execution_count": 5,
   "id": "6f2fed28",
   "metadata": {},
   "outputs": [],
   "source": [
    "def printtree(root):\n",
    "    \n",
    "    if root is None:\n",
    "        return\n",
    "    \n",
    "    print(root.data)\n",
    "    printtree(root.left)\n",
    "    printtree(root.right)\n",
    "    \n",
    "#This will print the tree but will not depict what is printed at what end"
   ]
  },
  {
   "cell_type": "code",
   "execution_count": 6,
   "id": "f66469c9",
   "metadata": {},
   "outputs": [],
   "source": [
    "def printTreedetailed(root):\n",
    "    \n",
    "    if root is None:\n",
    "        return\n",
    "    \n",
    "    print(root.data,end=\":\")\n",
    "    if root.left != None:\n",
    "        print(L,root.left.data,end=\" \")\n",
    "    if root.right != None:\n",
    "        print(R,root.right.data,end=\" \")\n",
    "        \n",
    "    printTreedetailed(root.left)\n",
    "    printTreedetailed(root.right)\n",
    "    \n",
    "    "
   ]
  },
  {
   "cell_type": "code",
   "execution_count": 7,
   "id": "b75dd425",
   "metadata": {},
   "outputs": [],
   "source": [
    "def takeinputTree():\n",
    "    \n",
    "    rootdata = int(input())\n",
    "    \n",
    "    if rootdata == -1:\n",
    "        \n",
    "        return None\n",
    "    \n",
    "    root = BinarytreeNode(rootdata)\n",
    "    \n",
    "    leftTree = takeinputTree()\n",
    "    rightTree = takeinputTree()\n",
    "    \n",
    "    root.left = leftTree\n",
    "    root.right = rightTree\n",
    "    \n",
    "    return root\n"
   ]
  },
  {
   "cell_type": "code",
   "execution_count": 8,
   "id": "c035b2b6",
   "metadata": {},
   "outputs": [
    {
     "data": {
      "text/plain": [
       "<function __main__.takeinputTree()>"
      ]
     },
     "execution_count": 8,
     "metadata": {},
     "output_type": "execute_result"
    }
   ],
   "source": [
    "takeinputTree"
   ]
  },
  {
   "cell_type": "code",
   "execution_count": 9,
   "id": "f4102523",
   "metadata": {},
   "outputs": [],
   "source": [
    "def numberofNode(root):\n",
    "    \n",
    "    if root is None:\n",
    "        return 0\n",
    "    \n",
    "    leftcount = numberofNode(root.left)\n",
    "    rightcount = numberofNode(root.right)\n",
    "    \n",
    "    return 1 + leftcount + rightcount"
   ]
  },
  {
   "cell_type": "code",
   "execution_count": 10,
   "id": "007222ef",
   "metadata": {},
   "outputs": [],
   "source": [
    "def sumofnode(root):\n",
    "    \n",
    "    if root is None:\n",
    "        return 0\n",
    "    \n",
    "    leftsum = sumofnode(root.left)\n",
    "    \n",
    "    rightsum = sumofnode(root.right)\n",
    "    \n",
    "    return root.data + leftsum + rightsum\n",
    "\n"
   ]
  },
  {
   "cell_type": "markdown",
   "id": "0e5adf21",
   "metadata": {},
   "source": [
    "### Pre Order Tree Traversal"
   ]
  },
  {
   "cell_type": "code",
   "execution_count": 11,
   "id": "645c7c52",
   "metadata": {},
   "outputs": [],
   "source": [
    "def printPreOrderTree(root):\n",
    "    \n",
    "    if root is None:\n",
    "        return\n",
    "    \n",
    "    print(root.data)\n",
    "    \n",
    "    printPreOrderTree(root.left)\n",
    "    printPreOrderTree(root.right)\n",
    "    \n",
    "    return root"
   ]
  },
  {
   "cell_type": "markdown",
   "id": "e20666f4",
   "metadata": {},
   "source": [
    "### Post Order Tree Traversal"
   ]
  },
  {
   "cell_type": "code",
   "execution_count": 12,
   "id": "b5cef64a",
   "metadata": {},
   "outputs": [],
   "source": [
    "def postOrderTraversal(root):\n",
    "    \n",
    "    if root is None:\n",
    "        return\n",
    "    \n",
    "    postOrderTraversal(root.left)\n",
    "    postOrderTraversal(root.right)\n",
    "    \n",
    "    print(root.data,end=\" \")\n",
    "    \n",
    "    return root"
   ]
  },
  {
   "cell_type": "markdown",
   "id": "7e7dc2d1",
   "metadata": {},
   "source": [
    "### Largest data in the Tree"
   ]
  },
  {
   "cell_type": "code",
   "execution_count": 13,
   "id": "8fa8e0ed",
   "metadata": {},
   "outputs": [],
   "source": [
    "def largestdata(root):\n",
    "    \n",
    "    if root is None:\n",
    "        return -1\n",
    "    \n",
    "    largestdatainleft = largestdata(root.left)\n",
    "    largestdatainright = largestdata(root.right)\n",
    "    \n",
    "    largest = max(root.data,largestdatainleft,largestdatainright)\n",
    "    \n",
    "    return largest"
   ]
  },
  {
   "cell_type": "markdown",
   "id": "73ddcc15",
   "metadata": {},
   "source": [
    "### Nodes greater than X"
   ]
  },
  {
   "cell_type": "code",
   "execution_count": 15,
   "id": "6bdc65d3",
   "metadata": {},
   "outputs": [],
   "source": [
    "def countNodesGreaterThanX(root, x) :\n",
    "\n",
    "    if root is None:\n",
    "        return \n",
    "    \n",
    "    count = 0\n",
    "    \n",
    "    if root.data > x:\n",
    "        count = count + 1\n",
    "        \n",
    "    if root.left is not None:\n",
    "        \n",
    "        count = count + countNodesGreaterThanX(root.left,x)\n",
    "    \n",
    "    if root.right is not None:\n",
    "        count = count + countNodesGreaterThanX(root.right,x)\n",
    "    \n",
    "    return count"
   ]
  },
  {
   "cell_type": "markdown",
   "id": "fe3a15dc",
   "metadata": {},
   "source": [
    "### Height of the tree"
   ]
  },
  {
   "cell_type": "code",
   "execution_count": 16,
   "id": "45b0bd84",
   "metadata": {},
   "outputs": [],
   "source": [
    "def heightoftheTree(root):\n",
    "    \n",
    "    if root is None:\n",
    "        return 0\n",
    "    \n",
    "    leftheight = heightoftheTree(root.left)\n",
    "    rightheight = heightoftheTree(root.right)\n",
    "    \n",
    "    largestheight = max(leftheight,rightheight)\n",
    "    \n",
    "    return 1 + largestheight"
   ]
  },
  {
   "cell_type": "markdown",
   "id": "93b7afad",
   "metadata": {},
   "source": [
    "### Number of leaf node"
   ]
  },
  {
   "cell_type": "code",
   "execution_count": 17,
   "id": "95171652",
   "metadata": {},
   "outputs": [],
   "source": [
    "def numberofleafnode(root):\n",
    "    \n",
    "    if root is None:\n",
    "        \n",
    "        return 0\n",
    "    \n",
    "    if root.left is None and root.right is None:\n",
    "        return 1\n",
    "    \n",
    "    leftleafcount = numberofleafnode(root.left)\n",
    "    rightleafcount = numberofleafnode(root.right)\n",
    "    \n",
    "    return leftleafcount + rightleafcount"
   ]
  },
  {
   "cell_type": "markdown",
   "id": "215a4f78",
   "metadata": {},
   "source": [
    "### Print node at k depth"
   ]
  },
  {
   "cell_type": "code",
   "execution_count": 19,
   "id": "81d03806",
   "metadata": {},
   "outputs": [],
   "source": [
    "def printdepthK(root,k):\n",
    "    \n",
    "    if root is None:\n",
    "        return\n",
    "    \n",
    "    if k == 0:\n",
    "        print(root.data)\n",
    "        return\n",
    "    \n",
    "    printdepthK(root.left,k-1)\n",
    "    printdepthK(root.right,k-1)"
   ]
  },
  {
   "cell_type": "markdown",
   "id": "e30a4825",
   "metadata": {},
   "source": [
    "### Print node at k depth 2"
   ]
  },
  {
   "cell_type": "code",
   "execution_count": 20,
   "id": "3effddb5",
   "metadata": {},
   "outputs": [],
   "source": [
    "def printdepthK2(root,k,d=0):\n",
    "    \n",
    "    if root is None:\n",
    "        return\n",
    "    \n",
    "    if k == d:\n",
    "        print(root.data)\n",
    "        return\n",
    "    \n",
    "    printdepthK2(root.left,k,d+1)\n",
    "    printdepthK2(root.right,k,d+1)\n",
    "    "
   ]
  },
  {
   "cell_type": "markdown",
   "id": "1c75c725",
   "metadata": {},
   "source": [
    "### Replace node data with depth"
   ]
  },
  {
   "cell_type": "code",
   "execution_count": 21,
   "id": "2d28032f",
   "metadata": {},
   "outputs": [],
   "source": [
    "def replaceNode(root,k):\n",
    "    \n",
    "    if root is None:\n",
    "        return\n",
    "    \n",
    "    if root.data is not None:\n",
    "        root.data = k\n",
    "        \n",
    "    replaceNode(root.left,k+1)\n",
    "    replaceNode(root.right,k+1)\n",
    "    \n",
    "    "
   ]
  },
  {
   "cell_type": "markdown",
   "id": "675013f5",
   "metadata": {},
   "source": [
    "### Assignment 1 Is Node Present"
   ]
  },
  {
   "cell_type": "code",
   "execution_count": 22,
   "id": "50ff17d6",
   "metadata": {},
   "outputs": [],
   "source": [
    "def isNodePresent(root,x):\n",
    "    \n",
    "    if root is None:\n",
    "        return False\n",
    "    \n",
    "    if root.data == x:\n",
    "        return True\n",
    "    \n",
    "    leftsubtree = isNodePresent(root.left)\n",
    "    rightsubtree = isNodePresent(root.right)\n",
    "    \n",
    "    return leftsubtree or rightsubtree"
   ]
  },
  {
   "cell_type": "markdown",
   "id": "4de5385b",
   "metadata": {},
   "source": [
    "### Assignment 2 Node with No siblings\n"
   ]
  },
  {
   "cell_type": "code",
   "execution_count": 24,
   "id": "8f328222",
   "metadata": {},
   "outputs": [],
   "source": [
    "def rootwithnosbilings(root):\n",
    "    \n",
    "    if root is None:\n",
    "        return None \n",
    "    \n",
    "    if root.left is None and root.right is not None:\n",
    "        print(root.data,end=\" \")\n",
    "        return\n",
    "    elif root.left is not None and root.right is None:\n",
    "        print(root.data,end=\" \")\n",
    "        \n",
    "    leftsubtree = rootwithnosbilings(root.left)\n",
    "    rightsubtree = rootwithnosbilings(root.right)"
   ]
  },
  {
   "cell_type": "code",
   "execution_count": null,
   "id": "62a0694c",
   "metadata": {},
   "outputs": [],
   "source": []
  }
 ],
 "metadata": {
  "kernelspec": {
   "display_name": "Python 3 (ipykernel)",
   "language": "python",
   "name": "python3"
  },
  "language_info": {
   "codemirror_mode": {
    "name": "ipython",
    "version": 3
   },
   "file_extension": ".py",
   "mimetype": "text/x-python",
   "name": "python",
   "nbconvert_exporter": "python",
   "pygments_lexer": "ipython3",
   "version": "3.11.4"
  }
 },
 "nbformat": 4,
 "nbformat_minor": 5
}
