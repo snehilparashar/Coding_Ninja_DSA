{
 "cells": [
  {
   "cell_type": "markdown",
   "id": "883fd6c0",
   "metadata": {},
   "source": [
    "### Search Node in the BST"
   ]
  },
  {
   "cell_type": "code",
   "execution_count": 3,
   "id": "a5c13f8a",
   "metadata": {},
   "outputs": [],
   "source": [
    "class BinaryTreeNode:\n",
    "    \n",
    "    def __init__(self,data):\n",
    "        \n",
    "        self.data = data\n",
    "        self.left = None\n",
    "        self.right = None"
   ]
  },
  {
   "cell_type": "code",
   "execution_count": 3,
   "id": "cb648092",
   "metadata": {},
   "outputs": [],
   "source": [
    "def searchNode(root,x):\n",
    "    \n",
    "    #Here x is the node that is to be searched\n",
    "    \n",
    "    if root is None:\n",
    "        print(\"The element is not present in the Tree\")\n",
    "        return\n",
    "    \n",
    "    if root.data == x:\n",
    "        return True\n",
    "    \n",
    "    elif root.data > x:\n",
    "        return searchNode(root.left,x)\n",
    "    else:\n",
    "        return searchNode(root.right,x)"
   ]
  },
  {
   "cell_type": "markdown",
   "id": "9da881db",
   "metadata": {},
   "source": [
    "### Print Element btw K1 and K2"
   ]
  },
  {
   "cell_type": "code",
   "execution_count": 2,
   "id": "7a5b6bed",
   "metadata": {},
   "outputs": [],
   "source": [
    "def printelementK1K2(root,k1,k2):\n",
    "    \n",
    "    if root is None:\n",
    "        return None\n",
    "    \n",
    "    if root.data < k1:\n",
    "        return printelementK1K2(root.right,k1,k2)\n",
    "        \n",
    "    elif root.data > k2:\n",
    "        return printelementK1K2(root.right,k1,k2)\n",
    "    \n",
    "    else:\n",
    "        print(root.data)\n",
    "        printelementK1K2(root.left,k1,k2)\n",
    "        printelementK1K2(root.left,k1,k2)\n",
    "        \n",
    "        return"
   ]
  },
  {
   "cell_type": "markdown",
   "id": "59ad8072",
   "metadata": {},
   "source": [
    "### Convert a sorted BST to array"
   ]
  },
  {
   "cell_type": "code",
   "execution_count": 4,
   "id": "e627597e",
   "metadata": {},
   "outputs": [],
   "source": [
    "def convertarraytoBST(array):\n",
    "    \n",
    "    if len(array) == 0:\n",
    "        return\n",
    "    \n",
    "    midpoint = (len(array)-1)//2\n",
    "    \n",
    "    rootindex = array[midpoint]\n",
    "    \n",
    "    root = BinaryTreeNode(array[rootindex])\n",
    "    \n",
    "    root.left = convertarraytoBST(array[:rootindex])\n",
    "    root.right = convertarraytoBST(array[rootindex+1:])\n",
    "    \n",
    "    return root"
   ]
  },
  {
   "cell_type": "markdown",
   "id": "c8184b96",
   "metadata": {},
   "source": [
    "### isBST 1\n"
   ]
  },
  {
   "cell_type": "code",
   "execution_count": 5,
   "id": "7c613267",
   "metadata": {},
   "outputs": [],
   "source": [
    "def TreeMin(root):\n",
    "    \n",
    "    if root is None:\n",
    "        return 100000\n",
    "    \n",
    "    leftmin = TreeMin(root.left)\n",
    "    rightmin = Tree(root.right)\n",
    "    \n",
    "    return min(root.data,leftmin,rightmin)\n",
    "\n",
    "def TreeMax(root):\n",
    "    \n",
    "    if root is None:\n",
    "        return -100000\n",
    "    \n",
    "    leftmax = TreeMax(root.left)\n",
    "    rightmax = TreeMax(root.right)\n",
    "    \n",
    "    return max(root.data,leftmax,rightmax)"
   ]
  },
  {
   "cell_type": "code",
   "execution_count": 6,
   "id": "47606582",
   "metadata": {},
   "outputs": [],
   "source": [
    "def isBST(root):\n",
    "    \n",
    "    if root is None:\n",
    "        return False\n",
    "    \n",
    "    if root.data > TreeMax(root.right) or root.data <= TreeMin(root.left):\n",
    "        return False\n",
    "    \n",
    "    leftisBST = isBST(root.left)\n",
    "    rightisBST = isBST(root.right)\n",
    "    \n",
    "    return leftisBST and rightisBST"
   ]
  },
  {
   "cell_type": "markdown",
   "id": "e2506891",
   "metadata": {},
   "source": [
    "### isBST 2"
   ]
  },
  {
   "cell_type": "code",
   "execution_count": null,
   "id": "3e62c1c8",
   "metadata": {},
   "outputs": [],
   "source": [
    "def isBST2(root):\n",
    "    \n",
    "    if root is None:\n",
    "        return 100000,-10000,True\n",
    "    \n",
    "    \n",
    "    leftmin,rightmin,isleftBST = isBST2(root.left)\n",
    "    leftmax,rightmax,isrightBST = isBST2(root.right)\n",
    "    \n",
    "    overall_minimum = min(leftmin,rightmin,root.data)\n",
    "    overall_maximum = max(leftmax,rightmax,root.data)\n",
    "    \n",
    "    isTreeBST = True\n",
    "    \n",
    "    if root.data <= leftmax or root.data > rightmin:\n",
    "        isTreeBST = False\n",
    "        \n",
    "    if not(isleftBST) or not(isrightBST):\n",
    "        isTreeBST = False\n",
    "        \n",
    "    return overall_minimum,overall_maximum,isTreeBST"
   ]
  }
 ],
 "metadata": {
  "kernelspec": {
   "display_name": "Python 3 (ipykernel)",
   "language": "python",
   "name": "python3"
  },
  "language_info": {
   "codemirror_mode": {
    "name": "ipython",
    "version": 3
   },
   "file_extension": ".py",
   "mimetype": "text/x-python",
   "name": "python",
   "nbconvert_exporter": "python",
   "pygments_lexer": "ipython3",
   "version": "3.11.4"
  }
 },
 "nbformat": 4,
 "nbformat_minor": 5
}
