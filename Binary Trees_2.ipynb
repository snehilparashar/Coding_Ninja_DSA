{
 "cells": [
  {
   "cell_type": "markdown",
   "id": "5fcabcad",
   "metadata": {},
   "source": [
    "### Remove Leaf from Tree"
   ]
  },
  {
   "cell_type": "code",
   "execution_count": 2,
   "id": "5cd0aa7e",
   "metadata": {},
   "outputs": [],
   "source": [
    "def removeleaves(root):\n",
    "    \n",
    "    if root is None:\n",
    "        return None\n",
    "    \n",
    "    if root.left is None and root.right is None:\n",
    "        return None\n",
    "    \n",
    "    \n",
    "    root.left = removeleaves(root.left)\n",
    "    root.right = removeleaves(root.right)\n",
    "    \n",
    "    return root"
   ]
  },
  {
   "cell_type": "markdown",
   "id": "ab5b5879",
   "metadata": {},
   "source": [
    "### Mirror Tree problem"
   ]
  },
  {
   "cell_type": "code",
   "execution_count": 4,
   "id": "0ea9ff6b",
   "metadata": {},
   "outputs": [],
   "source": [
    "def mirrorTree(root):\n",
    "    \n",
    "    \n",
    "    if root is None:\n",
    "        return None\n",
    "    \n",
    "    if root.left is None and root.right is None:\n",
    "        \n",
    "        return None\n",
    "    \n",
    "    \n",
    "    mirrorTree(root.left)\n",
    "    mirrorTree(root.right)\n",
    "    \n",
    "    temprory = root.left\n",
    "    root.left = root.right\n",
    "    root.right = temprory\n",
    "    \n",
    "    return root"
   ]
  },
  {
   "cell_type": "markdown",
   "id": "f986b647",
   "metadata": {},
   "source": [
    "### Balanced Tree"
   ]
  },
  {
   "cell_type": "code",
   "execution_count": 5,
   "id": "e60814df",
   "metadata": {},
   "outputs": [],
   "source": [
    "def heightofTree(root):\n",
    "    \n",
    "    if root is None:\n",
    "        return 0\n",
    "    \n",
    "    return 1 + max(heightofTree(root.left),heightofTree(root.right))"
   ]
  },
  {
   "cell_type": "code",
   "execution_count": 6,
   "id": "0dc9f98b",
   "metadata": {},
   "outputs": [],
   "source": [
    "def isbalancedTree(root):\n",
    "    \n",
    "    if root is None:\n",
    "        return True\n",
    "    \n",
    "    lh = heightofTree(root.left)\n",
    "    \n",
    "    rh = heightofTree(root.right)\n",
    "    \n",
    "    \n",
    "    if lh - rh > 1 or rh - lh > 1:\n",
    "        return False\n",
    "    \n",
    "    \n",
    "    isleftbalanced = isbalancedTree(root.left)\n",
    "    isrightbalanced = isbalancedTree(root.right)\n",
    "    \n",
    "    \n",
    "    if isleftbalanced and isrightbalanced:\n",
    "        return True\n",
    "    else:\n",
    "        return False"
   ]
  },
  {
   "cell_type": "markdown",
   "id": "61a12287",
   "metadata": {},
   "source": [
    "### Balanced Tree Better"
   ]
  },
  {
   "cell_type": "code",
   "execution_count": 7,
   "id": "c8b8aad1",
   "metadata": {},
   "outputs": [],
   "source": [
    "def heightOfTree(root):\n",
    "    \n",
    "    if root is None:\n",
    "        return 0\n",
    "    \n",
    "    return 1 + max(heightOfTree(root.left),heightOfTree(root.right))\n"
   ]
  },
  {
   "cell_type": "code",
   "execution_count": 8,
   "id": "7ddba536",
   "metadata": {},
   "outputs": [],
   "source": [
    "def IsBalancedBetter(root):\n",
    "    \n",
    "    if root is None:\n",
    "        return 0, True\n",
    "    \n",
    "    lh , isLeftBalancedBetter = IsBalancedBetter(root.left)\n",
    "    rh , isrightBalancedBetter = isBalancedBetter(root.right)\n",
    "    \n",
    "    overallheight = 1 + max(lh,rh)\n",
    "    \n",
    "    if lh - rh > 1 or rh - lh > 1:\n",
    "        return overallheight, False\n",
    "    \n",
    "    if isLeftBalancedBetter and isrightBalancedBetter:\n",
    "        return overallheight,True\n",
    "    \n",
    "    else:\n",
    "        return overallheight,False"
   ]
  },
  {
   "cell_type": "markdown",
   "id": "700cf512",
   "metadata": {},
   "source": [
    "### Diameter of Tree"
   ]
  },
  {
   "cell_type": "code",
   "execution_count": 9,
   "id": "3d47e17c",
   "metadata": {},
   "outputs": [],
   "source": [
    "class Pair:\n",
    "    \n",
    "    def __init__(self,diameter,height):\n",
    "        \n",
    "        self.diameter = diameter\n",
    "        self.height = height\n",
    "        \n",
    "def diameterofTreeHelper(root):\n",
    "    \n",
    "    if root is None:\n",
    "        pairofValues = Pair(0,0)\n",
    "        return pairofValues\n",
    "    \n",
    "    leftTreePairValue = diameterofTreeHelper(root.left)\n",
    "    rightTreePairValue = diameterofTreeHelper(root.right)\n",
    "    \n",
    "    \n",
    "    leftTreeDiamter = leftTreePairValue.diamter\n",
    "    rightTreeDiamter = rightTreePairValue.diameter\n",
    "    \n",
    "    DiameterFromRoot = leftTreePairValue.height + rightTreePairValue.height + 1\n",
    "    \n",
    "    DiamterofTree = max(leftTreeDiamter,rightTreeDiamter,DiamterFromRoot)\n",
    "    \n",
    "    \n",
    "    HeightofTree = max(leftTreePairValue.height,rightTreePairValue.height) + 1\n",
    "    \n",
    "    return Pair(DiamterofTree,HeightofTree)\n",
    "\n",
    "def diameterOfTree(root):\n",
    "    \n",
    "    pair = diameterofTreeHelper(root)\n",
    "    return pair.diameter\n",
    "    \n",
    "    \n",
    "    "
   ]
  },
  {
   "cell_type": "markdown",
   "id": "b3b0c9e9",
   "metadata": {},
   "source": [
    "### Level wise input for Binary Tree"
   ]
  },
  {
   "cell_type": "code",
   "execution_count": 10,
   "id": "0d5b4db1",
   "metadata": {},
   "outputs": [],
   "source": [
    "class BinaryTreeNode:\n",
    "    \n",
    "    def __init__(self,data):\n",
    "        self.data = data\n",
    "        self.right = None\n",
    "        self.left = None\n",
    "        \n"
   ]
  },
  {
   "cell_type": "code",
   "execution_count": 14,
   "id": "355f1f86",
   "metadata": {},
   "outputs": [],
   "source": [
    "import queue\n",
    "# This code is written iteratively\n",
    "def LevelwiseInput():\n",
    "    \n",
    "    q = queue.Queue()\n",
    "    \n",
    "    print(\"Enter Root \")\n",
    "    rootdata = int(input())\n",
    "    \n",
    "    if rootdata == -1:\n",
    "        return None\n",
    "    \n",
    "    root = BinaryTreeNode(rootdata)\n",
    "    \n",
    "    q.put(root)\n",
    "    \n",
    "    while (not(q.empty())):\n",
    "        \n",
    "        current_node = q.get()\n",
    "        \n",
    "        print(\"Enter the leftchid for current node\",current_node.data)\n",
    "        \n",
    "        leftchildinput = int(input())\n",
    "        \n",
    "        if leftchildinput != -1:\n",
    "            \n",
    "            leftchild = BinaryTreeNode(leftchildinput)\n",
    "            root.left = leftchild\n",
    "            \n",
    "            q.put(leftchild)\n",
    "            \n",
    "        print(\"Enter the right child\",current_node.data)\n",
    "        \n",
    "        rightchildinput = int(input())\n",
    "        \n",
    "        if rightchildinput != -1:\n",
    "            \n",
    "            rightchild = BinaryTreeNode(rightchildinput)\n",
    "            \n",
    "            root.right = rightchild\n",
    "            \n",
    "            q.put(rightchild)\n",
    "            \n",
    "    return root"
   ]
  },
  {
   "cell_type": "markdown",
   "id": "965b2a8f",
   "metadata": {},
   "source": [
    "### Print Level Wise Order Tree"
   ]
  },
  {
   "cell_type": "code",
   "execution_count": 16,
   "id": "38222c8d",
   "metadata": {},
   "outputs": [],
   "source": [
    "import queue\n",
    "\n",
    "def printLevelwiseTree(root):\n",
    "    \n",
    "    q = queue.Queue()\n",
    "    \n",
    "    if root is None:\n",
    "        return None\n",
    "    \n",
    "    q.put(root)\n",
    "    \n",
    "    \n",
    "    while (not(q.empty())):\n",
    "        \n",
    "        current_node = q.get()\n",
    "        print(current_node.data,end=\":\")\n",
    "        \n",
    "        leftchild = current_node.left\n",
    "        \n",
    "        if leftchild is not None:\n",
    "            \n",
    "            print(\"L :\",end=\" \")\n",
    "            print(leftchild.data,end=\" \")\n",
    "            q.put(leftchild)\n",
    "            \n",
    "        else:\n",
    "            print(\"L :\",end=\" \")\n",
    "            print(\"-1\")\n",
    "            \n",
    "            \n",
    "        rightchild = current_node.right \n",
    "        \n",
    "        if rightchild is not None:\n",
    "            \n",
    "            print(\"R:\",end=\" \")\n",
    "            print(rightchild.data,end=\" \")\n",
    "            q.put(rightchild)\n",
    "            \n",
    "        else:\n",
    "            print(\"R:\",end=\" \")\n",
    "            print(\"-1\")\n",
    "            \n",
    "    return root\n",
    "            "
   ]
  },
  {
   "cell_type": "markdown",
   "id": "b09ff17c",
   "metadata": {},
   "source": [
    "### Build Tree Using PreOrder and InOrder"
   ]
  },
  {
   "cell_type": "code",
   "execution_count": 18,
   "id": "46d7dedd",
   "metadata": {},
   "outputs": [],
   "source": [
    "def BuildTreeInPreOrder(PreOrder,Inorder):\n",
    "    \n",
    "    if len(PreOrder) == 0:\n",
    "        return None\n",
    "    \n",
    "    rootdata = PreOrder[0]\n",
    "    \n",
    "    root = BinaryTreeNode(rootdata)\n",
    "    \n",
    "    InorderRootIndex = -1\n",
    "    \n",
    "    for i in range(0,len(PreOrder)):\n",
    "        \n",
    "        if Inorder[i] == rootdata:\n",
    "            InorderRootIndex = i\n",
    "            \n",
    "            break\n",
    "            \n",
    "    if InorderRootIndex == -1:\n",
    "        return None\n",
    "    \n",
    "    leftinorder = Inorder[:InorderRootIndex]\n",
    "    rightinrder = Inorder[InorderRootIndex+1:]\n",
    "    \n",
    "    lenofleftsubTree = len(leftinorder)\n",
    "    \n",
    "    leftPreOrder = PreOrder[1:lenofleftsubTree]\n",
    "    rightpreorder = PreOrder[lenofleftsubTree+1:]\n",
    "    \n",
    "    leftchild = BuildTreeInPreOrder(leftPreOrder,leftinorder)\n",
    "    rightchild = BuildTreeInPreOrder(rightpreorder,leftinorder)\n",
    "    \n",
    "    root.left = leftchild\n",
    "    root.right = rightchild\n",
    "    \n",
    "    return root"
   ]
  },
  {
   "cell_type": "markdown",
   "id": "fce65ced",
   "metadata": {},
   "source": [
    "### Build Tree Using PostOrder and InOrder\n"
   ]
  },
  {
   "cell_type": "code",
   "execution_count": 19,
   "id": "7c1e61a0",
   "metadata": {},
   "outputs": [],
   "source": [
    "def BuildTreeInPostOrder(PostOrder,Inorder):\n",
    "    \n",
    "    if len(PostOrder) == 0:\n",
    "        return None\n",
    "    \n",
    "    rootdata = PostOrder[len(PostOrder)-1]\n",
    "    \n",
    "    root = BinaryTreeNode(rootdata)\n",
    "    \n",
    "    rootindexinInorder = -1\n",
    "    \n",
    "    for i in range(0,len(Inorder)):\n",
    "        \n",
    "        if Inorder[i] == rootdata:\n",
    "            \n",
    "            rootindexinInorder == i\n",
    "            break\n",
    "            \n",
    "    if rootindexinInorder == -1:\n",
    "        return None\n",
    "    \n",
    "    leftInOrder = Inorder[:rootindexinInorder]\n",
    "    rightInOrder = Inorder[rootindexinInorder+1:]\n",
    "    \n",
    "    lengthofSubtree = len(leftInOrder)\n",
    "    \n",
    "    leftPostOrder = PostOrder[:lengthofSubtree]\n",
    "    rightPostOrder = PostOrder[lengthofSubtree+1:len(PostOrder)-1]\n",
    "    \n",
    "    leftchild = BuildTreeInPostOrder(leftPostOrder,leftInOrder)\n",
    "    rightchild = BuildTreeInPostOrder(rightPostOrder,rightInOrder)\n",
    "    \n",
    "    root.left = leftchild\n",
    "    root.right = rightchild\n",
    "    \n",
    "    return root\n",
    "    \n",
    "    "
   ]
  },
  {
   "cell_type": "markdown",
   "id": "ce74b790",
   "metadata": {},
   "source": [
    "### Assignment Question 1"
   ]
  },
  {
   "cell_type": "code",
   "execution_count": 22,
   "id": "73c36905",
   "metadata": {},
   "outputs": [],
   "source": [
    "def Insertduplicatenode(root):\n",
    "    \n",
    "    if root is None:\n",
    "        return\n",
    "    \n",
    "    newNode = BinaryTreeNode(root.data)\n",
    "    \n",
    "    leftsideofroot = root.left\n",
    "    \n",
    "    root.left = newNode\n",
    "    newNode.left = leftsideofroot\n",
    "    \n",
    "    Insertduplicatenode(leftofroot)\n",
    "    Insertduplicatenode(root.right)\n",
    "    \n",
    "    return root"
   ]
  },
  {
   "cell_type": "markdown",
   "id": "a6d65494",
   "metadata": {},
   "source": [
    "### Assignment Question 2"
   ]
  },
  {
   "cell_type": "code",
   "execution_count": 23,
   "id": "b6b3800a",
   "metadata": {},
   "outputs": [],
   "source": [
    "class PairofMinandMax:\n",
    "    \n",
    "    def __init__(self,minimum,maximum):\n",
    "        \n",
    "        self.minimum = minimum\n",
    "        self.maximum = maximum\n",
    "        \n",
    "def getMinandMax(root):\n",
    "    \n",
    "    if root is None:\n",
    "        return PairofMinandMax(-1,-1)\n",
    "    \n",
    "    \n",
    "    leftpair = getMinandMax(root.left)\n",
    "    rightpair = getMinandMax(root.right)\n",
    "    \n",
    "    minimum = min(root.data,leftpair.minimum,rightpair.minimum)\n",
    "    maximum = max(root.data,leftpair.maximum,rightpair.maximum)\n",
    "    \n",
    "    return PairofMinandMax(minimum,maximum)"
   ]
  },
  {
   "cell_type": "markdown",
   "id": "2468a730",
   "metadata": {},
   "source": [
    "### Print Levelwise Tree"
   ]
  },
  {
   "cell_type": "code",
   "execution_count": 24,
   "id": "e1295113",
   "metadata": {},
   "outputs": [],
   "source": [
    "import queue\n",
    "\n",
    "def printlevelwise(root):\n",
    "    \n",
    "    q = queue.Queue()\n",
    "    \n",
    "    if root is None:\n",
    "        return None\n",
    "    \n",
    "    q.put(root)\n",
    "    \n",
    "    while (not(q.empty())):\n",
    "        \n",
    "        current_node = q.get()\n",
    "        \n",
    "        if current_node is not None:\n",
    "            print(current_node.data,end=\" \")\n",
    "            \n",
    "            if current_node.left is not None:\n",
    "                q.put(current_node.left)\n",
    "                \n",
    "            if current_node.right is not None:\n",
    "                q.put(current_node.right)\n",
    "                \n",
    "        else:\n",
    "            \n",
    "            if q.empty():\n",
    "                break\n",
    "                \n",
    "            else:\n",
    "                q.put(None)"
   ]
  },
  {
   "cell_type": "markdown",
   "id": "262171f6",
   "metadata": {},
   "source": [
    "### Path to sum k"
   ]
  },
  {
   "cell_type": "code",
   "execution_count": 25,
   "id": "ce69e1e9",
   "metadata": {},
   "outputs": [],
   "source": [
    "def pathtosumk(root,k):\n",
    "    \n",
    "    if root is None:\n",
    "        return False\n",
    "    \n",
    "    if root.left is None and root.right is None and root.data == k:\n",
    "        return True\n",
    "    \n",
    "    return pathtosumk(root.right,k-root.data) or pathtosumk(root.right,k-root.data)"
   ]
  },
  {
   "cell_type": "code",
   "execution_count": null,
   "id": "c9b99103",
   "metadata": {},
   "outputs": [],
   "source": []
  }
 ],
 "metadata": {
  "kernelspec": {
   "display_name": "Python 3 (ipykernel)",
   "language": "python",
   "name": "python3"
  },
  "language_info": {
   "codemirror_mode": {
    "name": "ipython",
    "version": 3
   },
   "file_extension": ".py",
   "mimetype": "text/x-python",
   "name": "python",
   "nbconvert_exporter": "python",
   "pygments_lexer": "ipython3",
   "version": "3.11.4"
  }
 },
 "nbformat": 4,
 "nbformat_minor": 5
}
