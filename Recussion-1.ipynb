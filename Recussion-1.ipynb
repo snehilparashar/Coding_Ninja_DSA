{
 "cells": [
  {
   "cell_type": "markdown",
   "id": "6a6a9af3",
   "metadata": {},
   "source": [
    "### Factorial "
   ]
  },
  {
   "cell_type": "code",
   "execution_count": 1,
   "id": "94c9f0c0",
   "metadata": {},
   "outputs": [],
   "source": [
    "def factorial(n):\n",
    "    \n",
    "    if n == 0:\n",
    "        return 1\n",
    "    \n",
    "    output = n * factorial(n-1)\n",
    "    \n",
    "    return output"
   ]
  },
  {
   "cell_type": "code",
   "execution_count": 7,
   "id": "601aa4ea",
   "metadata": {},
   "outputs": [
    {
     "data": {
      "text/plain": [
       "120"
      ]
     },
     "execution_count": 7,
     "metadata": {},
     "output_type": "execute_result"
    }
   ],
   "source": [
    "factorial(5)"
   ]
  },
  {
   "cell_type": "markdown",
   "id": "76738bee",
   "metadata": {},
   "source": [
    "### Sum of digits "
   ]
  },
  {
   "cell_type": "code",
   "execution_count": 3,
   "id": "abf9f099",
   "metadata": {},
   "outputs": [],
   "source": [
    "def sumofn(n):\n",
    "    \n",
    "    if n == 0:\n",
    "        return 0\n",
    "    \n",
    "    smalloutput = sumofn(n-1)\n",
    "    \n",
    "    output = n + smalloutput\n",
    "    \n",
    "    return output"
   ]
  },
  {
   "cell_type": "code",
   "execution_count": 4,
   "id": "8fe9316c",
   "metadata": {},
   "outputs": [
    {
     "name": "stdout",
     "output_type": "stream",
     "text": [
      "5\n"
     ]
    },
    {
     "data": {
      "text/plain": [
       "15"
      ]
     },
     "execution_count": 4,
     "metadata": {},
     "output_type": "execute_result"
    }
   ],
   "source": [
    "n = int(input())\n",
    "\n",
    "sumofn(n)"
   ]
  },
  {
   "cell_type": "code",
   "execution_count": 5,
   "id": "91c2c5eb",
   "metadata": {},
   "outputs": [],
   "source": [
    "def sumofn1(n):\n",
    "    \n",
    "    if n == 0:\n",
    "        return 0\n",
    "    \n",
    "    return n + sumofn1(n-1)"
   ]
  },
  {
   "cell_type": "code",
   "execution_count": 6,
   "id": "90d9d50c",
   "metadata": {},
   "outputs": [
    {
     "name": "stdout",
     "output_type": "stream",
     "text": [
      "5\n"
     ]
    },
    {
     "data": {
      "text/plain": [
       "15"
      ]
     },
     "execution_count": 6,
     "metadata": {},
     "output_type": "execute_result"
    }
   ],
   "source": [
    "n = int(input())\n",
    "sumofn1(n)"
   ]
  },
  {
   "cell_type": "markdown",
   "id": "07cd28e2",
   "metadata": {},
   "source": [
    "### Printing number 1 to n and n to 1"
   ]
  },
  {
   "cell_type": "code",
   "execution_count": 10,
   "id": "24a62319",
   "metadata": {},
   "outputs": [],
   "source": [
    "def print_1to_n(n):\n",
    "    \n",
    "    if n == 0:\n",
    "        return 0\n",
    "    \n",
    "    print_1to_n(n-1)\n",
    "    \n",
    "    print(n,end=\" \")"
   ]
  },
  {
   "cell_type": "code",
   "execution_count": 11,
   "id": "396bc2d4",
   "metadata": {},
   "outputs": [
    {
     "name": "stdout",
     "output_type": "stream",
     "text": [
      "5\n",
      "1 2 3 4 5 "
     ]
    }
   ],
   "source": [
    "n = int(input())\n",
    "print_1to_n(n)"
   ]
  },
  {
   "cell_type": "code",
   "execution_count": 14,
   "id": "c4c7dc4a",
   "metadata": {},
   "outputs": [],
   "source": [
    "def print_nto_1(n):\n",
    "    \n",
    "    if n == 0:\n",
    "        return \n",
    "    print(n,end=\" \")\n",
    "    \n",
    "    print_nto_1(n-1)"
   ]
  },
  {
   "cell_type": "code",
   "execution_count": 15,
   "id": "81648d9d",
   "metadata": {},
   "outputs": [
    {
     "name": "stdout",
     "output_type": "stream",
     "text": [
      "5\n",
      "5 4 3 2 1 "
     ]
    }
   ],
   "source": [
    "n = int(input())\n",
    "print_nto_1(n)"
   ]
  },
  {
   "cell_type": "markdown",
   "id": "53ab47c0",
   "metadata": {},
   "source": [
    "### Power of number"
   ]
  },
  {
   "cell_type": "code",
   "execution_count": 16,
   "id": "643d6166",
   "metadata": {},
   "outputs": [],
   "source": [
    "def powerofn(x,n):\n",
    "    \n",
    "    if n == 0:\n",
    "        return 1\n",
    "    \n",
    "    smalloutput = powerofn(x,n-1)\n",
    "    \n",
    "    output = x * smalloutput\n",
    "    \n",
    "    return output\n",
    "    "
   ]
  },
  {
   "cell_type": "code",
   "execution_count": 18,
   "id": "edea714c",
   "metadata": {},
   "outputs": [
    {
     "name": "stdout",
     "output_type": "stream",
     "text": [
      "2\n",
      "3\n"
     ]
    },
    {
     "data": {
      "text/plain": [
       "8"
      ]
     },
     "execution_count": 18,
     "metadata": {},
     "output_type": "execute_result"
    }
   ],
   "source": [
    "n = int(input())\n",
    "x = int(input())\n",
    "powerofn(n,x)"
   ]
  },
  {
   "cell_type": "markdown",
   "id": "d29c09ff",
   "metadata": {},
   "source": [
    "### Fibonacci Number"
   ]
  },
  {
   "cell_type": "raw",
   "id": "bcbf3185",
   "metadata": {},
   "source": [
    "To find the nth fibonacci number"
   ]
  },
  {
   "cell_type": "code",
   "execution_count": 16,
   "id": "204fadf5",
   "metadata": {},
   "outputs": [],
   "source": [
    "def fib(n):\n",
    "    \n",
    "    if n == 1 or n == 2:\n",
    "        return 1\n",
    "    \n",
    "    return fib(n-1) + fib(n-2)"
   ]
  },
  {
   "cell_type": "code",
   "execution_count": 19,
   "id": "113de82a",
   "metadata": {},
   "outputs": [
    {
     "name": "stdout",
     "output_type": "stream",
     "text": [
      "6\n"
     ]
    },
    {
     "data": {
      "text/plain": [
       "8"
      ]
     },
     "execution_count": 19,
     "metadata": {},
     "output_type": "execute_result"
    }
   ],
   "source": [
    "n = int(input())\n",
    "fib(n)"
   ]
  },
  {
   "cell_type": "markdown",
   "id": "61fa6f6f",
   "metadata": {},
   "source": [
    "### Check if list is sorted"
   ]
  },
  {
   "cell_type": "code",
   "execution_count": 20,
   "id": "76be9c83",
   "metadata": {},
   "outputs": [],
   "source": [
    "def checkifsorted(li):\n",
    "    \n",
    "    if len(li) == 0 or len(li) == 1:\n",
    "        return True\n",
    "    \n",
    "    if li[0] > li[1]:\n",
    "        return False\n",
    "    \n",
    "    smallerlist = li[1:]\n",
    "    \n",
    "    smallerlistsorted = checkifsorted(smallerlist)\n",
    "    \n",
    "    if smallerlistsorted:\n",
    "        return True\n",
    "    else:\n",
    "        return False"
   ]
  },
  {
   "cell_type": "code",
   "execution_count": 24,
   "id": "8663bc67",
   "metadata": {},
   "outputs": [
    {
     "data": {
      "text/plain": [
       "True"
      ]
     },
     "execution_count": 24,
     "metadata": {},
     "output_type": "execute_result"
    }
   ],
   "source": [
    "li = [1,2,3,4,5]\n",
    "checkifsorted(li)"
   ]
  },
  {
   "cell_type": "markdown",
   "id": "92dbfd08",
   "metadata": {},
   "source": [
    "### Check if list is sorted better code"
   ]
  },
  {
   "cell_type": "code",
   "execution_count": 29,
   "id": "7fd7efec",
   "metadata": {},
   "outputs": [],
   "source": [
    "def issortedbetter(li,si=0):\n",
    "    \n",
    "    if si == len(li) or si == len(li)-1:\n",
    "        return True\n",
    "    \n",
    "    if li[si] > li[si+1]:\n",
    "        return False\n",
    "    \n",
    "    smallerlistsorted = issortedbetter(li,si+1)\n",
    "    \n",
    "    if smallerlistsorted:\n",
    "        return True\n",
    "    else:\n",
    "        return False"
   ]
  },
  {
   "cell_type": "code",
   "execution_count": 33,
   "id": "cd041b0a",
   "metadata": {},
   "outputs": [
    {
     "data": {
      "text/plain": [
       "True"
      ]
     },
     "execution_count": 33,
     "metadata": {},
     "output_type": "execute_result"
    }
   ],
   "source": [
    "li = [1,2,3,4,5]\n",
    "issortedbetter(li)"
   ]
  },
  {
   "cell_type": "markdown",
   "id": "de79a7a2",
   "metadata": {},
   "source": [
    "### First index position"
   ]
  },
  {
   "cell_type": "code",
   "execution_count": 1,
   "id": "107ff7fa",
   "metadata": {},
   "outputs": [],
   "source": [
    "def getfirstindex(li,x):\n",
    "    \n",
    "    if len(li) == 0:\n",
    "        return -1\n",
    "    \n",
    "    if li[0] == x:\n",
    "        return 0\n",
    "    \n",
    "    smallerlist = li[1:]\n",
    "    \n",
    "    smallerlistoutput = getfirstindex(smallerlist,x)\n",
    "    \n",
    "    if smallerlistoutput == -1:\n",
    "        return -1\n",
    "    else:\n",
    "        return smallerlistoutput + 1"
   ]
  },
  {
   "cell_type": "markdown",
   "id": "93e52ac9",
   "metadata": {},
   "source": [
    "### Better code"
   ]
  },
  {
   "cell_type": "code",
   "execution_count": 7,
   "id": "ec9ddb0c",
   "metadata": {},
   "outputs": [],
   "source": [
    "def getfirstindexbetter(li,si,x):\n",
    "    \n",
    "    #Here we will be using the method of start index\n",
    "    \n",
    "    l = len(li)\n",
    "    \n",
    "    if si == l or si == l-1:\n",
    "        \n",
    "        return -1\n",
    "    \n",
    "    if li[si]==x:\n",
    "        return si\n",
    "    \n",
    "    smallerlistoutput = getfirstindexbetter(li,si+1,x)\n",
    "    \n",
    "    if smallerlistoutput == -1:\n",
    "        return -1\n",
    "    else:\n",
    "        return smallerlistoutput\n",
    "    "
   ]
  },
  {
   "cell_type": "code",
   "execution_count": 8,
   "id": "2eb47a9f",
   "metadata": {},
   "outputs": [
    {
     "data": {
      "text/plain": [
       "5"
      ]
     },
     "execution_count": 8,
     "metadata": {},
     "output_type": "execute_result"
    }
   ],
   "source": [
    "li = [1,3,1,3,4,6,4,5]\n",
    "#getfirstindex(li,6)\n",
    "getfirstindexbetter(li,0,6)"
   ]
  },
  {
   "cell_type": "markdown",
   "id": "894fcd4d",
   "metadata": {},
   "source": [
    "### Last index number of array"
   ]
  },
  {
   "cell_type": "code",
   "execution_count": 10,
   "id": "1b506c06",
   "metadata": {},
   "outputs": [],
   "source": [
    "## Copy list method\n",
    "\n",
    "def lastindexposition(li,x):\n",
    "    \n",
    "    if len(li) == 0:\n",
    "        return -1\n",
    "    \n",
    "    smallerlist = li[1:]\n",
    "    \n",
    "    smallerlistoutput = lastindexposition(smallerlist,x)\n",
    "    \n",
    "    if smallerlistoutput != -1:\n",
    "        return smallerlistoutput + 1\n",
    "    \n",
    "    else:\n",
    "        if li[0] == x:\n",
    "            return 0\n",
    "        else:\n",
    "            return -1\n",
    "    \n",
    "    "
   ]
  },
  {
   "cell_type": "code",
   "execution_count": 15,
   "id": "4b4e404e",
   "metadata": {},
   "outputs": [],
   "source": [
    "## Better code with start index method\n",
    "\n",
    "def lastindexpostionbetter(li,si,x):\n",
    "    \n",
    "    l = len(li)\n",
    "    \n",
    "    if si == l:\n",
    "        return -1\n",
    "    \n",
    "    smallerlistoutput = lastindexpostionbetter(li,si+1,x)\n",
    "    \n",
    "    if smallerlistoutput != -1:\n",
    "        return smallerlistoutput\n",
    "    \n",
    "    else:\n",
    "        if li[si] == x:\n",
    "            return si\n",
    "        else:\n",
    "            return -1"
   ]
  },
  {
   "cell_type": "code",
   "execution_count": 16,
   "id": "378a564a",
   "metadata": {},
   "outputs": [
    {
     "data": {
      "text/plain": [
       "2"
      ]
     },
     "execution_count": 16,
     "metadata": {},
     "output_type": "execute_result"
    }
   ],
   "source": [
    "li = [1,3,1,3,4,6,4,5]\n",
    "lastindexposition(li,1)"
   ]
  },
  {
   "cell_type": "code",
   "execution_count": 17,
   "id": "386e2d90",
   "metadata": {},
   "outputs": [
    {
     "data": {
      "text/plain": [
       "2"
      ]
     },
     "execution_count": 17,
     "metadata": {},
     "output_type": "execute_result"
    }
   ],
   "source": [
    "li = [1,3,1,3,4,6,4,5]\n",
    "lastindexpostionbetter(li,0,1)"
   ]
  },
  {
   "cell_type": "code",
   "execution_count": null,
   "id": "d34dfda9",
   "metadata": {},
   "outputs": [],
   "source": []
  }
 ],
 "metadata": {
  "kernelspec": {
   "display_name": "Python 3 (ipykernel)",
   "language": "python",
   "name": "python3"
  },
  "language_info": {
   "codemirror_mode": {
    "name": "ipython",
    "version": 3
   },
   "file_extension": ".py",
   "mimetype": "text/x-python",
   "name": "python",
   "nbconvert_exporter": "python",
   "pygments_lexer": "ipython3",
   "version": "3.11.4"
  }
 },
 "nbformat": 4,
 "nbformat_minor": 5
}
