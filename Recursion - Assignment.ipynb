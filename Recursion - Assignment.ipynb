{
 "cells": [
  {
   "cell_type": "markdown",
   "id": "b926861e",
   "metadata": {},
   "source": [
    "### Geometric Sum"
   ]
  },
  {
   "cell_type": "code",
   "execution_count": 3,
   "id": "1d0f3188",
   "metadata": {},
   "outputs": [],
   "source": [
    "def geometricsum(n):\n",
    "    \n",
    "    if n == 0:\n",
    "        return 1\n",
    "    \n",
    "    smallerlist = geometricsum(n-1)\n",
    "    \n",
    "    return 0.5 **n + smallerlist"
   ]
  },
  {
   "cell_type": "code",
   "execution_count": 4,
   "id": "66a0affd",
   "metadata": {},
   "outputs": [
    {
     "name": "stdout",
     "output_type": "stream",
     "text": [
      "3\n"
     ]
    },
    {
     "data": {
      "text/plain": [
       "1.875"
      ]
     },
     "execution_count": 4,
     "metadata": {},
     "output_type": "execute_result"
    }
   ],
   "source": [
    "n = int(input())\n",
    "geometricsum(n)"
   ]
  },
  {
   "cell_type": "markdown",
   "id": "77db5ba8",
   "metadata": {},
   "source": [
    "### Check palindrom in a string"
   ]
  },
  {
   "cell_type": "code",
   "execution_count": 17,
   "id": "ef848e3d",
   "metadata": {},
   "outputs": [],
   "source": [
    "def checkpalindromusingRec(string,si,ei):\n",
    "    \n",
    "    if si >= ei:\n",
    "        return string\n",
    "    \n",
    "    if string[si] == string[ei]:\n",
    "        \n",
    "        smallerstringcheck = checkpalindromusingRec(string,si+1,ei-1)\n",
    "        \n",
    "        return smallerstringcheck\n",
    "    \n",
    "    else:\n",
    "        \n",
    "        return False"
   ]
  },
  {
   "cell_type": "code",
   "execution_count": 20,
   "id": "334c9c61",
   "metadata": {},
   "outputs": [
    {
     "name": "stdout",
     "output_type": "stream",
     "text": [
      "False\n"
     ]
    }
   ],
   "source": [
    "str = 'abbc'\n",
    "result = checkpalindromusingRec(str,0,len(str)-1)\n",
    "\n",
    "if result:\n",
    "    print(\"True\")\n",
    "else:\n",
    "    print(\"False\")"
   ]
  },
  {
   "cell_type": "markdown",
   "id": "09fc836b",
   "metadata": {},
   "source": [
    "### Sum of digits"
   ]
  },
  {
   "cell_type": "code",
   "execution_count": 31,
   "id": "4f574e26",
   "metadata": {},
   "outputs": [],
   "source": [
    "def sumofdigitsRec(n):\n",
    "    \n",
    "    if n == 0 or n == 1:\n",
    "        return n\n",
    "    \n",
    "    smallerlist = sumofdigitsRec(n//10)\n",
    "    \n",
    "    output = n%10 + smallerlist\n",
    "    \n",
    "    return output"
   ]
  },
  {
   "cell_type": "code",
   "execution_count": 33,
   "id": "68191977",
   "metadata": {},
   "outputs": [
    {
     "data": {
      "text/plain": [
       "10"
      ]
     },
     "execution_count": 33,
     "metadata": {},
     "output_type": "execute_result"
    }
   ],
   "source": [
    "n = 1234\n",
    "sumofdigitsRec(n)"
   ]
  },
  {
   "cell_type": "markdown",
   "id": "d6915442",
   "metadata": {},
   "source": [
    "### Multiplication"
   ]
  },
  {
   "cell_type": "code",
   "execution_count": 34,
   "id": "3fe3a367",
   "metadata": {},
   "outputs": [],
   "source": [
    "def multiplication(n,m):\n",
    "    \n",
    "    if n == 1 or m == 0:\n",
    "        return m\n",
    "    \n",
    "    smallernumber = multiplication(n,m-1)\n",
    "    \n",
    "    output = n + smallernumber\n",
    "    \n",
    "    return output\n"
   ]
  },
  {
   "cell_type": "code",
   "execution_count": 35,
   "id": "3028f501",
   "metadata": {},
   "outputs": [
    {
     "name": "stdout",
     "output_type": "stream",
     "text": [
      "3\n",
      "4\n"
     ]
    },
    {
     "data": {
      "text/plain": [
       "12"
      ]
     },
     "execution_count": 35,
     "metadata": {},
     "output_type": "execute_result"
    }
   ],
   "source": [
    "n = int(input())\n",
    "m = int(input())\n",
    "\n",
    "multiplication(n,m)"
   ]
  },
  {
   "cell_type": "markdown",
   "id": "103b2f5d",
   "metadata": {},
   "source": [
    "### Count number of zero"
   ]
  },
  {
   "cell_type": "code",
   "execution_count": 37,
   "id": "61e6964b",
   "metadata": {},
   "outputs": [],
   "source": [
    "def countzero(n):\n",
    "    \n",
    "    if n == 0:\n",
    "        return 1\n",
    "    \n",
    "    if n == 1:\n",
    "        return 0\n",
    "    \n",
    "    if n // 10 == 0:\n",
    "        return 0\n",
    "    \n",
    "    smallercount = countzero(n//10)\n",
    "    \n",
    "    if n % 10 == 0:\n",
    "        return smallercount + 1\n",
    "    else:\n",
    "        return smallercount"
   ]
  },
  {
   "cell_type": "code",
   "execution_count": 38,
   "id": "7b5dd60c",
   "metadata": {},
   "outputs": [
    {
     "name": "stdout",
     "output_type": "stream",
     "text": [
      "1230234004\n"
     ]
    },
    {
     "data": {
      "text/plain": [
       "3"
      ]
     },
     "execution_count": 38,
     "metadata": {},
     "output_type": "execute_result"
    }
   ],
   "source": [
    "n = int(input())\n",
    "countzero(n)"
   ]
  },
  {
   "cell_type": "markdown",
   "id": "e77fcc06",
   "metadata": {},
   "source": [
    "### Pair star"
   ]
  },
  {
   "cell_type": "code",
   "execution_count": 53,
   "id": "3b827ac3",
   "metadata": {},
   "outputs": [],
   "source": [
    "def pairstar(string,si):\n",
    "    \n",
    "    l = len(string)\n",
    "    \n",
    "    if si == l or si == l-1:\n",
    "        return string[si]\n",
    "    \n",
    "    if string[si] == string[si+1]:\n",
    "        \n",
    "        return string[si] + \"*\" + pairstar(string,si+1)\n",
    "    \n",
    "    else:\n",
    "        \n",
    "        return string[si] + pairstar(string,si+1)\n",
    "    \n",
    "    return string"
   ]
  },
  {
   "cell_type": "code",
   "execution_count": 54,
   "id": "cddae65d",
   "metadata": {},
   "outputs": [
    {
     "name": "stdout",
     "output_type": "stream",
     "text": [
      "hel*lo\n"
     ]
    }
   ],
   "source": [
    "string = \"hello\"\n",
    "print(pairstar(string,0))"
   ]
  },
  {
   "cell_type": "markdown",
   "id": "9c06be20",
   "metadata": {},
   "source": [
    "### Climibing stairs"
   ]
  },
  {
   "cell_type": "code",
   "execution_count": 55,
   "id": "25acc853",
   "metadata": {},
   "outputs": [],
   "source": [
    "def climbingstairs(n):\n",
    "    \n",
    "    if n == 1 or n == 0:\n",
    "        return 1\n",
    "    \n",
    "    if n == 2:\n",
    "        return 2\n",
    "    \n",
    "    else:\n",
    "        \n",
    "        return climbingstairs(n-1) + climbingstairs(n-3) + climbingstairs(n-2)\n",
    "    \n",
    "    "
   ]
  },
  {
   "cell_type": "code",
   "execution_count": 56,
   "id": "10778444",
   "metadata": {},
   "outputs": [
    {
     "name": "stdout",
     "output_type": "stream",
     "text": [
      "4\n"
     ]
    },
    {
     "data": {
      "text/plain": [
       "7"
      ]
     },
     "execution_count": 56,
     "metadata": {},
     "output_type": "execute_result"
    }
   ],
   "source": [
    "n = int(input())\n",
    "climbingstairs(n)"
   ]
  },
  {
   "cell_type": "markdown",
   "id": "3d4a5b6a",
   "metadata": {},
   "source": [
    "### Check AB"
   ]
  },
  {
   "cell_type": "code",
   "execution_count": 70,
   "id": "15e97281",
   "metadata": {},
   "outputs": [],
   "source": [
    "def checkABinstring(string):\n",
    "    \n",
    "    l = len(string)\n",
    "    \n",
    "    if l == 0:\n",
    "        return True\n",
    "    \n",
    "    if l == 1:\n",
    "        if string[0] == 'a':\n",
    "            return True\n",
    "        else:\n",
    "            return False\n",
    "        \n",
    "    if l == 2:\n",
    "        if string[0] == 'a' and string[1] == 'a':\n",
    "            return True\n",
    "        else:\n",
    "            return False\n",
    "        \n",
    "    if l > 2:\n",
    "        \n",
    "        if string[0] == 'a' and string[1] == 'b' and string[2] == 'b':\n",
    "            smallerstring = checkABinstring(string[3:])\n",
    "            \n",
    "        elif string[0] == 'a' and string[1] == 'a':\n",
    "            smallerstring = checkABinstring(string[2:])\n",
    "            \n",
    "        else:\n",
    "            return False\n",
    "        \n",
    "    return smallerstring\n",
    "\n",
    "\n",
    "\n",
    "        "
   ]
  },
  {
   "cell_type": "code",
   "execution_count": 74,
   "id": "93b81833",
   "metadata": {},
   "outputs": [
    {
     "name": "stdout",
     "output_type": "stream",
     "text": [
      "abababa\n",
      "False\n"
     ]
    }
   ],
   "source": [
    "string4 = input()\n",
    "result = checkABinstring(string4)\n",
    "if result == True:\n",
    "    print(\"True\")\n",
    "else:\n",
    "    print(\"False\")"
   ]
  },
  {
   "cell_type": "code",
   "execution_count": null,
   "id": "180b81f2",
   "metadata": {},
   "outputs": [],
   "source": []
  },
  {
   "cell_type": "code",
   "execution_count": null,
   "id": "ecf8d1a4",
   "metadata": {},
   "outputs": [],
   "source": []
  }
 ],
 "metadata": {
  "kernelspec": {
   "display_name": "Python 3 (ipykernel)",
   "language": "python",
   "name": "python3"
  },
  "language_info": {
   "codemirror_mode": {
    "name": "ipython",
    "version": 3
   },
   "file_extension": ".py",
   "mimetype": "text/x-python",
   "name": "python",
   "nbconvert_exporter": "python",
   "pygments_lexer": "ipython3",
   "version": "3.11.4"
  }
 },
 "nbformat": 4,
 "nbformat_minor": 5
}
