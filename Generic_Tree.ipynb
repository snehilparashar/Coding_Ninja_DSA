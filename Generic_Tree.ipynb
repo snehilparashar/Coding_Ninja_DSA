{
 "cells": [
  {
   "cell_type": "markdown",
   "id": "8b59f7d6",
   "metadata": {},
   "source": [
    "### Generic Tree Class"
   ]
  },
  {
   "cell_type": "code",
   "execution_count": 1,
   "id": "970fb4ad",
   "metadata": {},
   "outputs": [],
   "source": [
    "class GenericTreeClass:\n",
    "    \n",
    "    def __init__(self,data):\n",
    "        \n",
    "        self.data = data\n",
    "        self.children = list()\n",
    "        \n",
    "        "
   ]
  },
  {
   "cell_type": "markdown",
   "id": "1b974e5e",
   "metadata": {},
   "source": [
    "### Print Genric  Tree "
   ]
  },
  {
   "cell_type": "code",
   "execution_count": 4,
   "id": "ae15a70d",
   "metadata": {},
   "outputs": [],
   "source": [
    "def printTree(root):\n",
    "    \n",
    "    if root is None:\n",
    "        return None\n",
    "    \n",
    "    print(root.data)\n",
    "    \n",
    "    for child in root.children:\n",
    "        printTree(child)"
   ]
  },
  {
   "cell_type": "code",
   "execution_count": 5,
   "id": "ace0a51b",
   "metadata": {},
   "outputs": [],
   "source": [
    "def printTreeDetail(root):\n",
    "    \n",
    "    if root is None:\n",
    "        return\n",
    "    \n",
    "    print(root.data,\":\",end=\" \")\n",
    "    \n",
    "    for child in root.children:\n",
    "        print(child.data,\",\",end=\" \")\n",
    "        \n",
    "    print()\n",
    "    \n",
    "    for child in root.children:\n",
    "        printTreeDetail(child)"
   ]
  },
  {
   "cell_type": "markdown",
   "id": "4923ee06",
   "metadata": {},
   "source": [
    "### Take Tree Input"
   ]
  },
  {
   "cell_type": "code",
   "execution_count": 6,
   "id": "8fd73308",
   "metadata": {},
   "outputs": [],
   "source": [
    "def takeTreeinput():\n",
    "    \n",
    "    print(\"Give the root of the tree\")\n",
    "    \n",
    "    rootdata = int(input())\n",
    "    \n",
    "    if rootdata == -1:\n",
    "        return None\n",
    "    \n",
    "    \n",
    "    root = GenericTreeClass(rootdata)\n",
    "    \n",
    "    \n",
    "    print(\"Tell the number of children the root has\",rootdata)\n",
    "    \n",
    "    childcount = int(input())\n",
    "    \n",
    "    for i in childcount:\n",
    "        \n",
    "        child = takeTreeinput()\n",
    "        \n",
    "        root.children.append(child)\n",
    "        \n",
    "        \n",
    "    return root"
   ]
  },
  {
   "cell_type": "markdown",
   "id": "e4959c99",
   "metadata": {},
   "source": [
    "### Number of Node"
   ]
  },
  {
   "cell_type": "code",
   "execution_count": 7,
   "id": "736ad363",
   "metadata": {},
   "outputs": [],
   "source": [
    "def numberofNode(root):\n",
    "    \n",
    "    if root is None:\n",
    "        return\n",
    "    \n",
    "    count = 1\n",
    "    \n",
    "    \n",
    "    for child in root.children:\n",
    "        count = count + numberofNode(child)\n",
    "        \n",
    "    return count"
   ]
  },
  {
   "cell_type": "markdown",
   "id": "afd14352",
   "metadata": {},
   "source": [
    "### Sum of node"
   ]
  },
  {
   "cell_type": "code",
   "execution_count": 9,
   "id": "b400087b",
   "metadata": {},
   "outputs": [],
   "source": [
    "def sumofNodeGT(root):\n",
    "    \n",
    "    if root is None:\n",
    "        return 0\n",
    "    \n",
    "    sumofNode = 0\n",
    "    \n",
    "    for child in root.children:\n",
    "        sumofNode = sumofNode + sumofNodeGT(child)\n",
    "        \n",
    "        \n",
    "    totalsum = sumofNode + root.data\n",
    "    \n",
    "    return totalsum"
   ]
  },
  {
   "cell_type": "markdown",
   "id": "4095cf89",
   "metadata": {},
   "source": [
    "### Maxium of Node in a Genreic Tree"
   ]
  },
  {
   "cell_type": "code",
   "execution_count": 11,
   "id": "e4de9933",
   "metadata": {},
   "outputs": [],
   "source": [
    "def maxofNodeinGT(tree):\n",
    "    \n",
    "    if tree is None:\n",
    "        return None\n",
    "    \n",
    "    \n",
    "    maxiumumofnode = tree #This can be the root value as well\n",
    "    \n",
    "    for child in tree.children:\n",
    "        \n",
    "        temprorynode = maxofNodeinGT(child)\n",
    "        \n",
    "        if temprorynode.data > maxiumumofnode.data:\n",
    "            \n",
    "            maxiumumofnode.data = temprorynode.data \n",
    "            #here the data value of the maxium of node is replaced\n",
    "            \n",
    "    return maxiumumofnode\n",
    "    \n",
    "    "
   ]
  },
  {
   "cell_type": "markdown",
   "id": "c93e1be2",
   "metadata": {},
   "source": [
    "### Take Genric Tree input Level wise"
   ]
  },
  {
   "cell_type": "code",
   "execution_count": 14,
   "id": "b07e3cb6",
   "metadata": {},
   "outputs": [],
   "source": [
    "import queue\n",
    "\n",
    "def taketreeinputlevelwise():\n",
    "    \n",
    "    q = queue.Queue()\n",
    "    \n",
    "    print(\"Enter the root data\")\n",
    "    \n",
    "    rootdata = int(input())\n",
    "    \n",
    "    if rootdata == -1:\n",
    "        return None\n",
    "    \n",
    "    root = GenericTreeClass(rootdata)\n",
    "    \n",
    "    q.put(root)\n",
    "    \n",
    "    while not(q.empty()):\n",
    "        \n",
    "        current_node = q.get()\n",
    "        \n",
    "        print(\"Enter the number of children for the root\",current_node.data)\n",
    "        \n",
    "        numberofchildren = int(input())\n",
    "        \n",
    "        for child in range(numberofchildren):\n",
    "            \n",
    "            print(\"Enter the next child for\",current_node.data)\n",
    "            \n",
    "            childdata = int(input())\n",
    "            \n",
    "            child = GenericTreeClass(childdata)\n",
    "            \n",
    "            current_node.child.append(child)\n",
    "            \n",
    "            q.put(child)\n",
    "            \n",
    "            \n",
    "    return root\n",
    "    \n",
    "    "
   ]
  },
  {
   "cell_type": "markdown",
   "id": "c5e79995",
   "metadata": {},
   "source": [
    "### Print Level wise children"
   ]
  },
  {
   "cell_type": "code",
   "execution_count": 16,
   "id": "7375a0af",
   "metadata": {},
   "outputs": [],
   "source": [
    "import queue\n",
    "\n",
    "def printLevelwiseGenericTree(tree):\n",
    "    \n",
    "    q = queue.Queue()\n",
    "    \n",
    "    if tree is None:\n",
    "        return None\n",
    "    \n",
    "    q.put(tree)\n",
    "    \n",
    "    \n",
    "    while not(q.empty()):\n",
    "        \n",
    "        current_node = q.get() \n",
    "        \n",
    "        print(current_node.data,\":\",end=\" \")\n",
    "        \n",
    "        for child in current_node.children:\n",
    "            \n",
    "            print(child.data)\n",
    "            q.put(child)\n",
    "            \n",
    "        print()\n",
    "        \n",
    "        \n",
    "            \n",
    "    "
   ]
  },
  {
   "cell_type": "markdown",
   "id": "a06af300",
   "metadata": {},
   "source": [
    "### height of the tree"
   ]
  },
  {
   "cell_type": "code",
   "execution_count": 17,
   "id": "b0b44385",
   "metadata": {},
   "outputs": [],
   "source": [
    "def heightofGT(root):\n",
    "    \n",
    "    if root is None:\n",
    "        \n",
    "        return 0\n",
    "    \n",
    "    initialmaxheight = 0\n",
    "    \n",
    "    for child in root.children:\n",
    "        \n",
    "        childheight = heightofGT(child)\n",
    "        \n",
    "        if childheight > initialmaxheight:\n",
    "            \n",
    "            initialmaxheight = childheight\n",
    "            \n",
    "            \n",
    "    return initialmaxheight + 1"
   ]
  },
  {
   "cell_type": "markdown",
   "id": "11ad3be4",
   "metadata": {},
   "source": [
    "### Assignment Questions "
   ]
  },
  {
   "cell_type": "markdown",
   "id": "47fe96b1",
   "metadata": {},
   "source": [
    "### 1"
   ]
  },
  {
   "cell_type": "code",
   "execution_count": 18,
   "id": "067a2fb1",
   "metadata": {},
   "outputs": [],
   "source": [
    "def checkifxpresent(root,x):\n",
    "    \n",
    "    \n",
    "    if root is None:\n",
    "        return False\n",
    "    \n",
    "    \n",
    "    if root.data == x:\n",
    "        return True\n",
    "    \n",
    "    for child in root.children:\n",
    "        \n",
    "        if checkifxpresent(child,x):\n",
    "            return True\n",
    "        \n",
    "    return False"
   ]
  },
  {
   "cell_type": "code",
   "execution_count": null,
   "id": "0e628f4a",
   "metadata": {},
   "outputs": [],
   "source": []
  }
 ],
 "metadata": {
  "kernelspec": {
   "display_name": "Python 3 (ipykernel)",
   "language": "python",
   "name": "python3"
  },
  "language_info": {
   "codemirror_mode": {
    "name": "ipython",
    "version": 3
   },
   "file_extension": ".py",
   "mimetype": "text/x-python",
   "name": "python",
   "nbconvert_exporter": "python",
   "pygments_lexer": "ipython3",
   "version": "3.11.4"
  }
 },
 "nbformat": 4,
 "nbformat_minor": 5
}
