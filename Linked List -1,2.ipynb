{
 "cells": [
  {
   "cell_type": "code",
   "execution_count": 1,
   "id": "118101fd",
   "metadata": {},
   "outputs": [],
   "source": [
    "class Node:\n",
    "    \n",
    "    def __init__(self,data):\n",
    "        \n",
    "        self.data = data\n",
    "        self.Next = None"
   ]
  },
  {
   "cell_type": "code",
   "execution_count": 2,
   "id": "7159fc14",
   "metadata": {},
   "outputs": [],
   "source": [
    "a = Node(13)\n",
    "b = Node(15)\n",
    "\n",
    "a.next = b"
   ]
  },
  {
   "cell_type": "code",
   "execution_count": 3,
   "id": "004d8709",
   "metadata": {},
   "outputs": [
    {
     "name": "stdout",
     "output_type": "stream",
     "text": [
      "13\n"
     ]
    }
   ],
   "source": [
    "print(a.data)"
   ]
  },
  {
   "cell_type": "code",
   "execution_count": 4,
   "id": "32beae8c",
   "metadata": {},
   "outputs": [
    {
     "name": "stdout",
     "output_type": "stream",
     "text": [
      "15\n"
     ]
    }
   ],
   "source": [
    "print(b.data)"
   ]
  },
  {
   "cell_type": "code",
   "execution_count": 5,
   "id": "87262a0d",
   "metadata": {},
   "outputs": [
    {
     "name": "stdout",
     "output_type": "stream",
     "text": [
      "15\n"
     ]
    }
   ],
   "source": [
    "print(a.next.data)"
   ]
  },
  {
   "cell_type": "code",
   "execution_count": 6,
   "id": "41799d6c",
   "metadata": {},
   "outputs": [
    {
     "name": "stdout",
     "output_type": "stream",
     "text": [
      "<__main__.Node object at 0x104ffa910>\n"
     ]
    }
   ],
   "source": [
    "print(a.next)"
   ]
  },
  {
   "cell_type": "markdown",
   "id": "d5eac9f0",
   "metadata": {},
   "source": [
    "### Creation of LinkedList and Printing\n"
   ]
  },
  {
   "cell_type": "code",
   "execution_count": 11,
   "id": "ddf58a3d",
   "metadata": {},
   "outputs": [],
   "source": [
    "class Node:\n",
    "    \n",
    "    def __init__(self,data):\n",
    "        \n",
    "        self.data = data\n",
    "        self.next = None\n",
    "        \n",
    "    def take_input():\n",
    "        \n",
    "        inputlist = [int(ele) for ele in input().split()]\n",
    "        \n",
    "        head = None\n",
    "        \n",
    "        for currentdata in inputlist:\n",
    "            \n",
    "            if currentdata == -1:\n",
    "                break\n",
    "                \n",
    "            newNode = Node(currentdata)\n",
    "\n",
    "            if head is None:\n",
    "                head = newNode\n",
    "\n",
    "            else:\n",
    "\n",
    "                currenthead = head\n",
    "\n",
    "                while currenthead.next is not None:\n",
    "\n",
    "                    currenthead = currenthead.next\n",
    "\n",
    "                currenthead = newNode\n",
    "\n",
    "            return head\n",
    "    \n",
    "    def printLL(head):\n",
    "        \n",
    "        while head is not None:\n",
    "            \n",
    "            print(str(head.data)+\"-\",end=\" \")\n",
    "            \n",
    "            head = head.next\n",
    "            \n",
    "        print(\"None\")\n",
    "        \n",
    "        return"
   ]
  },
  {
   "cell_type": "markdown",
   "id": "411ad55e",
   "metadata": {},
   "source": [
    "### o(n) way of linked list creation"
   ]
  },
  {
   "cell_type": "code",
   "execution_count": 13,
   "id": "31dab5bc",
   "metadata": {},
   "outputs": [],
   "source": [
    "class Node:\n",
    "    \n",
    "    def __init__(self,data):\n",
    "        \n",
    "        self.data = data\n",
    "        self.next = None\n",
    "        \n",
    "    def taking_input():\n",
    "        \n",
    "        inputlist = [ int(ele) for ele in input().split()]\n",
    "        \n",
    "        head = None\n",
    "        tail = None\n",
    "        \n",
    "        for currentdata in inputlist:\n",
    "            \n",
    "            if currentdata == -1:\n",
    "                \n",
    "                break\n",
    "                \n",
    "            newNode = Node(currentdata)\n",
    "            \n",
    "            if head is None:\n",
    "                \n",
    "                head = newNode\n",
    "                tail = newNode\n",
    "                \n",
    "            else:\n",
    "                \n",
    "                tail.next = newNode\n",
    "                tail = newNode\n",
    "                \n",
    "        return head\n",
    "    \n",
    "    \n",
    "    def printLL(head):\n",
    "        \n",
    "        \n",
    "        while head is not None:\n",
    "            \n",
    "            print(str(head.next) + \"-\",end=\" \")\n",
    "            \n",
    "            head = head.next\n",
    "            \n",
    "        print(\"None\")\n",
    "        \n",
    "        \n",
    "            \n",
    "            \n",
    "            "
   ]
  },
  {
   "cell_type": "markdown",
   "id": "2056182b",
   "metadata": {},
   "source": [
    "### Length of the linked list"
   ]
  },
  {
   "cell_type": "code",
   "execution_count": 15,
   "id": "1fc4c5db",
   "metadata": {},
   "outputs": [],
   "source": [
    "def lengthofLL(head):\n",
    "    \n",
    "    count = 1\n",
    "    \n",
    "    \n",
    "    while head is not None:\n",
    "        \n",
    "        head = head.next\n",
    "        \n",
    "        count = count + 1\n",
    "        \n",
    "    return count"
   ]
  },
  {
   "cell_type": "markdown",
   "id": "0c855f7c",
   "metadata": {},
   "source": [
    "### insert element in linked list"
   ]
  },
  {
   "cell_type": "code",
   "execution_count": 16,
   "id": "56718ea0",
   "metadata": {},
   "outputs": [],
   "source": [
    "def insert(head,i,data):\n",
    "    \n",
    "    if i < 0 or i > lengthofLL(head):\n",
    "        \n",
    "        return head\n",
    "    \n",
    "    count = 0\n",
    "    \n",
    "    previous = None\n",
    "    currentnode = head\n",
    "    \n",
    "    while count < i:\n",
    "        \n",
    "        previous = currentnode\n",
    "        currentnode = head.next\n",
    "        \n",
    "        count = count + 1\n",
    "        \n",
    "    previous.next = newNode\n",
    "    newNode.next = currentnode\n",
    "    \n",
    "    return head\n",
    "\n",
    "# This code will not run for previous is None or i = 0\n",
    "# So we need to make few changes in the same\n"
   ]
  },
  {
   "cell_type": "code",
   "execution_count": 17,
   "id": "90d4a2eb",
   "metadata": {},
   "outputs": [],
   "source": [
    "def insertbetter(head,i,data):\n",
    "    \n",
    "    if i < 0 or i > lengthofLL(head):\n",
    "        \n",
    "        return head\n",
    "    \n",
    "    count = 0\n",
    "    \n",
    "    previous = None\n",
    "    currentNode = head\n",
    "    \n",
    "    while count < i:\n",
    "        \n",
    "        if previous is not None:\n",
    "            previous.next = NewNode\n",
    "            \n",
    "        else:\n",
    "            head = newNode\n",
    "        newNode.next = current\n",
    "        \n",
    "    return head"
   ]
  },
  {
   "cell_type": "markdown",
   "id": "a5db9e77",
   "metadata": {},
   "source": [
    "### Recuresively"
   ]
  },
  {
   "cell_type": "code",
   "execution_count": 18,
   "id": "ba465236",
   "metadata": {},
   "outputs": [],
   "source": [
    "def insertrecursively(head,i,data):\n",
    "    \n",
    "    if i > lengthofLL(head) or i <0:\n",
    "        \n",
    "        return head\n",
    "    \n",
    "    if i == 0:\n",
    "        \n",
    "        newNode = Node(data)\n",
    "        \n",
    "        newNode.next = head\n",
    "        return newNode\n",
    "    \n",
    "    if head is None:\n",
    "        return None\n",
    "    \n",
    "    smallhead = insertrecursively(head.next,i-1,data)\n",
    "    \n",
    "    head.next = smallhead\n",
    "    \n",
    "    return head"
   ]
  },
  {
   "cell_type": "markdown",
   "id": "395b7be4",
   "metadata": {},
   "source": [
    "### Reverse of LinkedList"
   ]
  },
  {
   "cell_type": "code",
   "execution_count": 19,
   "id": "4b30a182",
   "metadata": {},
   "outputs": [],
   "source": [
    "def reverseofLL(head):\n",
    "    \n",
    "    if head is None:\n",
    "        return None\n",
    "    if head.next is None:\n",
    "        return head\n",
    "    \n",
    "    smallerhead = head.next\n",
    "    \n",
    "    currenttail = head\n",
    "    \n",
    "    while currenttail.next is not None:\n",
    "        \n",
    "        currenttail = currenttail.next\n",
    "        \n",
    "        \n",
    "    currenttail.next = head\n",
    "    \n",
    "    head.next = None\n",
    "    \n",
    "    return smallerhead"
   ]
  },
  {
   "cell_type": "markdown",
   "id": "0750e8bc",
   "metadata": {},
   "source": [
    "### Reverse of LinkedList - 2"
   ]
  },
  {
   "cell_type": "code",
   "execution_count": 21,
   "id": "a6a364f9",
   "metadata": {},
   "outputs": [],
   "source": [
    "def reverseofLL2(head):\n",
    "    \n",
    "    if head is None or head.next is None:\n",
    "        return head, head\n",
    "    \n",
    "    smallerhead,smallertail = reverseofLL2(head.next)\n",
    "    \n",
    "    smallertail.next = head\n",
    "    \n",
    "    head.next = None\n",
    "    \n",
    "    \n",
    "    return smallerhead,head"
   ]
  },
  {
   "cell_type": "markdown",
   "id": "81df3fc1",
   "metadata": {},
   "source": [
    "### Reverse of Linked List 3"
   ]
  },
  {
   "cell_type": "code",
   "execution_count": 23,
   "id": "8d3de26e",
   "metadata": {},
   "outputs": [],
   "source": [
    "def reverseofLL3(head):\n",
    "    \n",
    "    if head is None or head.next is None:\n",
    "        return head\n",
    "    \n",
    "    smallerhead = reverseofLL3(head.next)\n",
    "    \n",
    "    tail = head.next \n",
    "    \n",
    "    tail.next = head\n",
    "    \n",
    "    head.next = None\n",
    "    \n",
    "    return head"
   ]
  },
  {
   "cell_type": "markdown",
   "id": "3d707d3c",
   "metadata": {},
   "source": [
    "### Mid point of the LinkedList\n"
   ]
  },
  {
   "cell_type": "code",
   "execution_count": 25,
   "id": "e3d8b71a",
   "metadata": {},
   "outputs": [],
   "source": [
    "def midpointofLL(head):\n",
    "    \n",
    "    if head is None:\n",
    "        return\n",
    "    \n",
    "    pointer1 = head\n",
    "    pointer2 = head\n",
    "    \n",
    "    while pointer2.next is not None and pointer2 is not None:\n",
    "        \n",
    "        pointer1 = pointer1.next\n",
    "        \n",
    "        pointer2 = pointer2.next.next\n",
    "        \n",
    "    return pointer1"
   ]
  },
  {
   "cell_type": "markdown",
   "id": "ee4eb2e5",
   "metadata": {},
   "source": [
    "### Merge two sorted Array"
   ]
  },
  {
   "cell_type": "code",
   "execution_count": 26,
   "id": "fc5a51bb",
   "metadata": {},
   "outputs": [],
   "source": [
    "def mergetwosortedarray(head1,head2):\n",
    "    \n",
    "    if head1 is None:\n",
    "        return head2\n",
    "    \n",
    "    elif head2 is None:\n",
    "        return head1\n",
    "    \n",
    "    if head1 is None and head2 is None:\n",
    "        return None\n",
    "    \n",
    "    if head1.data <= head2.data:\n",
    "        \n",
    "        finalhead = head1\n",
    "        finaltail = head1\n",
    "        head1 = head1.next\n",
    "        \n",
    "    else:\n",
    "        \n",
    "        finalhead = head2\n",
    "        finaltail = head2\n",
    "        \n",
    "        head2 = head2.next\n",
    "        \n",
    "    while head1 is not None and head2 is not None:\n",
    "        \n",
    "        if head1.data >= head2.data:\n",
    "            finaltail.next = head2\n",
    "            finaltail = finaltail.next\n",
    "            head2 = head2.next\n",
    "            \n",
    "        else:\n",
    "            \n",
    "            finaltail.next = head1\n",
    "            finaltail = finaltail.next\n",
    "            head1 = head.next\n",
    "            \n",
    "    while head1 is not None:\n",
    "        \n",
    "        finaltail.next = head1\n",
    "        finaltail = finaltail.next\n",
    "        head1 = head1.next\n",
    "        \n",
    "    while head2 is not None:\n",
    "        \n",
    "        finaltail.next = head2\n",
    "        finaltail = finaltail.next\n",
    "        head2 = head2.next\n",
    "        \n",
    "    return finalhead\n",
    "            "
   ]
  },
  {
   "cell_type": "markdown",
   "id": "e7e17d62",
   "metadata": {},
   "source": [
    "### Merge Sort on LinkedList"
   ]
  },
  {
   "cell_type": "code",
   "execution_count": 28,
   "id": "4144a5a8",
   "metadata": {},
   "outputs": [],
   "source": [
    "#Step 1 is to find the middle of the linked list\n",
    "\n",
    "def midpointoftheLL(head):\n",
    "    \n",
    "    slow = head\n",
    "    fast = head\n",
    "    \n",
    "    while fast.next is not None and fast.next.next is not None:\n",
    "        \n",
    "        slow = slow.next\n",
    "        fast = fast.next.next\n",
    "        \n",
    "    return slow\n",
    "\n",
    "# Step 2 is to define the merging of the list\n",
    "\n",
    "def merge2list(head1,head2):\n",
    "    \n",
    "    if head1 is None:\n",
    "        return head2\n",
    "    \n",
    "    if head2 is None:\n",
    "        return head2\n",
    "    \n",
    "    if head1 is None and head2 is None:\n",
    "        return None\n",
    "    \n",
    "    if head1.data <= head2.data:\n",
    "        \n",
    "        finalhead = head1\n",
    "        finaltail = head1\n",
    "        head1 = head1.next\n",
    "    \n",
    "    else:\n",
    "        \n",
    "        finalhead = head2\n",
    "        finaltail = head2\n",
    "        head2 = head2.next\n",
    "        \n",
    "    while head1 is not None and head2 is not None:\n",
    "    \n",
    "        if head1.data <= head2.data:\n",
    "        \n",
    "            finaltail.next = head1\n",
    "            finaltail = finaltail.next\n",
    "            head1 = head1.next\n",
    "        else:\n",
    "            \n",
    "            finaltail.next = head2\n",
    "            finaltail = finaltail.next\n",
    "            head2 = head2.next\n",
    "            \n",
    "    while head1 is not None:\n",
    "        \n",
    "        finaltail.next = head1\n",
    "        finaltail = finaltail.next\n",
    "        head1 = head1.next\n",
    "        \n",
    "    while head2 is not None:\n",
    "        \n",
    "        finaltail.next = head2\n",
    "        head2 = head2.next\n",
    "        finaltail = finaltail.next\n",
    "        \n",
    "    return finalhead\n",
    "\n",
    "#Step 3 is to define the mergesort function\n",
    "\n",
    "def mergesort(head):\n",
    "    \n",
    "    if head.next is None:\n",
    "        return head\n",
    "    \n",
    "    midpoint = midpointoftheLL(head)\n",
    "    \n",
    "    head2 = midpoint.next\n",
    "    midpoint.next = None\n",
    "    \n",
    "    righthead = mergesort(head)\n",
    "    lefthead = mergesort(head2)\n",
    "    \n",
    "    head = merge2list(head,head2)\n",
    "    \n",
    "    return head\n",
    "        \n",
    "    "
   ]
  },
  {
   "cell_type": "markdown",
   "id": "626e7185",
   "metadata": {},
   "source": [
    "### Length of linkedlist"
   ]
  },
  {
   "cell_type": "code",
   "execution_count": 29,
   "id": "9a1cf075",
   "metadata": {},
   "outputs": [],
   "source": [
    "def lenghtofLL2(head):\n",
    "    \n",
    "    if head is None and head.next is None:\n",
    "        return 0\n",
    "    \n",
    "    count = 0 \n",
    "    \n",
    "    while head is not None:\n",
    "        count = count + 1\n",
    "        head = head.next\n",
    "        \n",
    "    return count"
   ]
  },
  {
   "cell_type": "markdown",
   "id": "72011eee",
   "metadata": {},
   "source": [
    "### Print ith Node"
   ]
  },
  {
   "cell_type": "code",
   "execution_count": 30,
   "id": "bcbd029f",
   "metadata": {},
   "outputs": [],
   "source": [
    "def printithNode(head,i):\n",
    "    \n",
    "    if head is None or head.next is None:\n",
    "        return head\n",
    "    \n",
    "    count = 0\n",
    "    currentnode = head\n",
    "    \n",
    "    while currentnode is not None:\n",
    "        \n",
    "        if count == i:\n",
    "            print(currentnode.data)\n",
    "            \n",
    "        count = count + 1\n",
    "        currentnode = currentnode.next"
   ]
  },
  {
   "cell_type": "markdown",
   "id": "525a49d1",
   "metadata": {},
   "source": [
    "### remove ith element from LL"
   ]
  },
  {
   "cell_type": "code",
   "execution_count": 31,
   "id": "05f71a15",
   "metadata": {},
   "outputs": [],
   "source": [
    "def lenofLL(head):\n",
    "    \n",
    "    if head is None or head.next is None:\n",
    "        return 0\n",
    "    \n",
    "    count = 0\n",
    "    currenthead = head\n",
    "    while currenthead is not None:\n",
    "        count = count + 1\n",
    "        currenthead = currenthead.next\n",
    "        \n",
    "    return count\n",
    "\n",
    "def removeithelement(head,i):\n",
    "    \n",
    "    if head is None or head.next is None:\n",
    "        return head\n",
    "    \n",
    "    currenthead = head\n",
    "    previous = None\n",
    "    count = 0\n",
    "    \n",
    "    n = lenofLL(head)\n",
    "    \n",
    "    if i < 0 or i > n:\n",
    "        return head\n",
    "    \n",
    "    while currenthead is not None:\n",
    "        \n",
    "        if count == i:\n",
    "            break\n",
    "            \n",
    "        else:\n",
    "            previous = currenthead\n",
    "            currenthead = currenthead.next\n",
    "            \n",
    "        count = count + 1\n",
    "        \n",
    "    if previous is None:\n",
    "        \n",
    "        head = currenthead.next\n",
    "        \n",
    "    else:\n",
    "        \n",
    "        previous.next = currenthead.next\n",
    "        \n",
    "    return head"
   ]
  },
  {
   "cell_type": "markdown",
   "id": "9e4112e6",
   "metadata": {},
   "source": [
    "### Delete not from LinkedList"
   ]
  },
  {
   "cell_type": "code",
   "execution_count": 32,
   "id": "83363e53",
   "metadata": {},
   "outputs": [],
   "source": [
    "def deletenodefromLinkedList(head,i):\n",
    "    \n",
    "    if head is None:\n",
    "        return head\n",
    "    \n",
    "    if pos <0:\n",
    "        return head\n",
    "    \n",
    "    if pos == i:\n",
    "        return head.next\n",
    "    \n",
    "    smallhead = deletenodefromLinkedList(head.next,i-1)\n",
    "    \n",
    "    head.next = smallhead\n",
    "    \n",
    "    return head"
   ]
  },
  {
   "cell_type": "markdown",
   "id": "f0949825",
   "metadata": {},
   "source": [
    "### Return the index position of the node"
   ]
  },
  {
   "cell_type": "code",
   "execution_count": 33,
   "id": "71bda011",
   "metadata": {},
   "outputs": [],
   "source": [
    "def findnode(head,n):\n",
    "    \n",
    "    if head is None and head.next is None:\n",
    "        return -1\n",
    "    \n",
    "    currenthead = head\n",
    "    count = 0\n",
    "    \n",
    "    while currenthead is not None:\n",
    "        \n",
    "        if currenthead.data == n:\n",
    "            \n",
    "            return count\n",
    "        \n",
    "        count = count + 1\n",
    "        currenthead = currenthead.next\n",
    "        \n",
    "    return -1"
   ]
  },
  {
   "cell_type": "markdown",
   "id": "81ce0eca",
   "metadata": {},
   "source": [
    "### Remove duplicates from Linked List"
   ]
  },
  {
   "cell_type": "code",
   "execution_count": 34,
   "id": "d008201c",
   "metadata": {},
   "outputs": [],
   "source": [
    "def removeduplicates(head):\n",
    "    \n",
    "    \n",
    "    if head is None or head.next is None:\n",
    "        \n",
    "        return head\n",
    "    \n",
    "    currenthead = head\n",
    "    advancenode = head.next\n",
    "    \n",
    "    while advancenode is not None:\n",
    "        \n",
    "        if currenthead.data == advancenode.data:\n",
    "            \n",
    "            currenthead.next = advancenode.next\n",
    "            \n",
    "            advancenode = currenthead.next\n",
    "            \n",
    "        else:\n",
    "            \n",
    "            currenthead = currenthead.next\n",
    "            advancenode = advancenode.next\n",
    "            \n",
    "    return head"
   ]
  },
  {
   "cell_type": "markdown",
   "id": "f42bf1f7",
   "metadata": {},
   "source": [
    "### Palindrom Linkedlist"
   ]
  },
  {
   "cell_type": "code",
   "execution_count": 35,
   "id": "587004df",
   "metadata": {},
   "outputs": [],
   "source": [
    "def reverseofLLiteratively(head):\n",
    "    \n",
    "    previousnode = None\n",
    "    currentnode = head\n",
    "    \n",
    "    while currentnode is not None:\n",
    "        \n",
    "        nexttocurrentnode = currentnode.next\n",
    "        \n",
    "        currentnode.next = previous\n",
    "        \n",
    "        previous = currentnode\n",
    "        currentnode = nexttocurrentnode\n",
    "        \n",
    "    return previousnode\n",
    "\n",
    "def checkpalindrome(head):\n",
    "    \n",
    "    slow = head\n",
    "    fast = head.next\n",
    "    \n",
    "    while fast is not None and fast.next is not None:\n",
    "        \n",
    "        slow = slow.next\n",
    "        fast = fast.next.next\n",
    "        \n",
    "    head1 = head\n",
    "    head2 = reverseofLLiteratively(slow.next)\n",
    "    \n",
    "    while head2 is not None:\n",
    "        if head1.val != head2.val:\n",
    "            return False\n",
    "        \n",
    "        head1 = head1.next\n",
    "        head2 = head2.next\n",
    "        \n",
    "    return True\n",
    "\n",
    "    \n",
    "        \n",
    "        "
   ]
  },
  {
   "cell_type": "markdown",
   "id": "953696f3",
   "metadata": {},
   "source": [
    "### Assignment of Linked List -2\n"
   ]
  },
  {
   "cell_type": "markdown",
   "id": "8564b1ad",
   "metadata": {},
   "source": [
    "### Find number of node in Linked List"
   ]
  },
  {
   "cell_type": "code",
   "execution_count": 37,
   "id": "3eed40a2",
   "metadata": {},
   "outputs": [],
   "source": [
    "def removenoderecuresively(head,n):\n",
    "    \n",
    "    if head is None or head.next is None:\n",
    "        return -1\n",
    "    \n",
    "    if head.data == n:\n",
    "        \n",
    "        return 0\n",
    "    smallerlist = removenoderecuresively(head.next,n)\n",
    "    \n",
    "    if smallerlist == -1:\n",
    "        return -1\n",
    "    else:\n",
    "        return 1 + smallerlist"
   ]
  },
  {
   "cell_type": "code",
   "execution_count": 38,
   "id": "2092dd06",
   "metadata": {},
   "outputs": [],
   "source": [
    "def removenodeiteratively(head,n):\n",
    "    \n",
    "    if head is None or head.next is None:\n",
    "        return -1\n",
    "    \n",
    "    currenthead = head\n",
    "    count = 0\n",
    "    \n",
    "    while currenthead is not None:\n",
    "        \n",
    "        if currenthead.data == n:\n",
    "            return count\n",
    "        \n",
    "        count = count + 1\n",
    "        currenthead = currenthead.data\n",
    "        \n",
    "    return count\n",
    "        "
   ]
  },
  {
   "cell_type": "markdown",
   "id": "bb503535",
   "metadata": {},
   "source": [
    "### Arrange in even-odd manner"
   ]
  },
  {
   "cell_type": "code",
   "execution_count": 40,
   "id": "062141c5",
   "metadata": {},
   "outputs": [],
   "source": [
    "def arrangelinkedlist(head):\n",
    "    \n",
    "    currenthead = head\n",
    "    odd_head = None\n",
    "    odd_tail = None\n",
    "    even_head = None\n",
    "    even_tail = None\n",
    "    \n",
    "    while currenthead is not None:\n",
    "        \n",
    "        if currenthead.data % 2 == 0:\n",
    "            \n",
    "            if even_head is None:\n",
    "                \n",
    "                even_head = currenthead\n",
    "                even_tail = currenthead\n",
    "                \n",
    "            else:\n",
    "                \n",
    "                evenhead.next = currenthead\n",
    "                even_tail = even_tail.next\n",
    "                \n",
    "            currenthead = currenthead.next\n",
    "            \n",
    "            \n",
    "        else:\n",
    "            \n",
    "            if odd_head is None:\n",
    "                \n",
    "                odd_head = currenthead\n",
    "                odd_tail = currenthead\n",
    "                \n",
    "            else:\n",
    "                \n",
    "                odd_head.next = currenthead\n",
    "                odd_tail = odd_tail.next\n",
    "                \n",
    "            currenthead = currenthead.next\n",
    "            \n",
    "            \n",
    "    if odd_tail is not None:\n",
    "        \n",
    "        odd_tail.next = even_head\n",
    "        \n",
    "    if even_tail is not None:\n",
    "        \n",
    "        even_tail.next = None\n",
    "        \n",
    "    else:\n",
    "        odd_tail.next = None\n",
    "        \n",
    "    if odd_head is None:\n",
    "        return even_head\n",
    "    else:\n",
    "        return odd_head"
   ]
  },
  {
   "cell_type": "code",
   "execution_count": null,
   "id": "bc2210e8",
   "metadata": {},
   "outputs": [],
   "source": []
  }
 ],
 "metadata": {
  "kernelspec": {
   "display_name": "Python 3 (ipykernel)",
   "language": "python",
   "name": "python3"
  },
  "language_info": {
   "codemirror_mode": {
    "name": "ipython",
    "version": 3
   },
   "file_extension": ".py",
   "mimetype": "text/x-python",
   "name": "python",
   "nbconvert_exporter": "python",
   "pygments_lexer": "ipython3",
   "version": "3.11.4"
  }
 },
 "nbformat": 4,
 "nbformat_minor": 5
}
