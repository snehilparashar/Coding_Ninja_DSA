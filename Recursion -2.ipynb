{
 "cells": [
  {
   "cell_type": "markdown",
   "id": "54a2d41e",
   "metadata": {},
   "source": [
    "### Check number in array"
   ]
  },
  {
   "cell_type": "code",
   "execution_count": 1,
   "id": "5288f376",
   "metadata": {},
   "outputs": [],
   "source": [
    "def checknumberinarray(li,x):\n",
    "    \n",
    "    if len(li) == 0:\n",
    "        return \n",
    "    \n",
    "    if li[0] == x:\n",
    "        return True\n",
    "    \n",
    "    smallerlist = li[1:]\n",
    "    \n",
    "    smallerlistoutput = checknumberinarray(smallerlist,x)\n",
    "    \n",
    "    if smallerlistoutput:\n",
    "        return True\n",
    "    else:\n",
    "        return False\n",
    "    \n",
    "    "
   ]
  },
  {
   "cell_type": "markdown",
   "id": "cc5acd98",
   "metadata": {},
   "source": [
    "### Sum of digits"
   ]
  },
  {
   "cell_type": "code",
   "execution_count": 5,
   "id": "09912d29",
   "metadata": {},
   "outputs": [],
   "source": [
    "def sumofdigits(li):\n",
    "    \n",
    "    l = len(li)\n",
    "    \n",
    "    if l == 0:\n",
    "        return 0\n",
    "    \n",
    "    smallerlist = li[1:]\n",
    "    \n",
    "    smallerlistoutput = sumofdigits(smallerlist)\n",
    "    \n",
    "    return li[0] + smallerlistoutput"
   ]
  },
  {
   "cell_type": "code",
   "execution_count": 6,
   "id": "ed2758eb",
   "metadata": {},
   "outputs": [
    {
     "data": {
      "text/plain": [
       "45"
      ]
     },
     "execution_count": 6,
     "metadata": {},
     "output_type": "execute_result"
    }
   ],
   "source": [
    "li = [1,2,3,4,5,6,7,8,9]\n",
    "checknumberinarray(li,10)\n",
    "sumofdigits(li)"
   ]
  },
  {
   "cell_type": "markdown",
   "id": "1c3105b8",
   "metadata": {},
   "source": [
    "### Remove x"
   ]
  },
  {
   "cell_type": "code",
   "execution_count": 11,
   "id": "f5d01e46",
   "metadata": {},
   "outputs": [],
   "source": [
    "def removetheschar(str,a,b):\n",
    "    \n",
    "    if len(str) == 0:\n",
    "        return str\n",
    "    \n",
    "    smallerstring = str[1:]\n",
    "    \n",
    "    if str[0] == a:\n",
    "        return b + smallerstring\n",
    "    else:\n",
    "        return str[0] + smallerstring\n",
    "    \n",
    "    "
   ]
  },
  {
   "cell_type": "code",
   "execution_count": 12,
   "id": "3d49a082",
   "metadata": {},
   "outputs": [
    {
     "data": {
      "text/plain": [
       "'Hnehil'"
      ]
     },
     "execution_count": 12,
     "metadata": {},
     "output_type": "execute_result"
    }
   ],
   "source": [
    "str = 'Snehil'\n",
    "removetheschar(str,'S','H')"
   ]
  },
  {
   "cell_type": "markdown",
   "id": "ed15d0fd",
   "metadata": {},
   "source": [
    "### Replace Pi"
   ]
  },
  {
   "cell_type": "code",
   "execution_count": 21,
   "id": "67343979",
   "metadata": {},
   "outputs": [],
   "source": [
    "def replacePi(str):\n",
    "    \n",
    "    if len(str) == 0 or len(str) == 1:\n",
    "        return str\n",
    "    \n",
    "    \n",
    "    if str[0] == \"p\" and str[1] == \"i\":\n",
    "        smallerlist = str[2:]\n",
    "        return \"3.14\" + replacePi(smallerlist)\n",
    "    else:\n",
    "        smallerlist = str[1:]\n",
    "        return str[0] + replacePi(smallerlist)"
   ]
  },
  {
   "cell_type": "code",
   "execution_count": 22,
   "id": "44fdd657",
   "metadata": {},
   "outputs": [
    {
     "data": {
      "text/plain": [
       "'3.14Snehil3.14'"
      ]
     },
     "execution_count": 22,
     "metadata": {},
     "output_type": "execute_result"
    }
   ],
   "source": [
    "str1 = 'piSnehilpi'\n",
    "replacePi(str1)"
   ]
  },
  {
   "cell_type": "markdown",
   "id": "ada1f1a1",
   "metadata": {},
   "source": [
    "### Remove Duplicates from string"
   ]
  },
  {
   "cell_type": "code",
   "execution_count": 30,
   "id": "d74eeea4",
   "metadata": {},
   "outputs": [],
   "source": [
    "def removeduplicates(str):\n",
    "    \n",
    "    l = len(str)\n",
    "    \n",
    "    if l == 1:\n",
    "        return str\n",
    "    \n",
    "    \n",
    "    if str[0] == str[1]:\n",
    "        if len(str) > 1:\n",
    "            \n",
    "            smallerlistoutput = removeduplicates(str[1:])\n",
    "            \n",
    "            return smallerlistoutput\n",
    "        else:\n",
    "            \n",
    "            return str[0]\n",
    "        \n",
    "    else:\n",
    "        \n",
    "        smallerlistoutput = removeduplicates(str[1:])\n",
    "        \n",
    "        return str[0] + smallerlistoutput\n",
    "            \n",
    "            "
   ]
  },
  {
   "cell_type": "code",
   "execution_count": 31,
   "id": "c40ed57c",
   "metadata": {},
   "outputs": [
    {
     "data": {
      "text/plain": [
       "'abscd'"
      ]
     },
     "execution_count": 31,
     "metadata": {},
     "output_type": "execute_result"
    }
   ],
   "source": [
    "str2 = \"aabbssccddd\"\n",
    "removeduplicates(str2)"
   ]
  },
  {
   "cell_type": "markdown",
   "id": "e7ee4455",
   "metadata": {},
   "source": [
    "### BinarSearch"
   ]
  },
  {
   "cell_type": "code",
   "execution_count": 34,
   "id": "fcad5cb7",
   "metadata": {},
   "outputs": [],
   "source": [
    "def binarysearchinlist(li,si,ei,x):\n",
    "    \n",
    "    \n",
    "    l = len(li)\n",
    "    \n",
    "    if si > ei:\n",
    "        \n",
    "        return -1\n",
    "    \n",
    "    midpoint = (si + ei)//2\n",
    "    \n",
    "    if li[midpoint] == x:\n",
    "        return midpoint\n",
    "    \n",
    "    elif li[midpoint] > x:\n",
    "        \n",
    "        return binarysearchinlist(li,si,midpoint-1,x)\n",
    "    \n",
    "    else:\n",
    "        return binarysearchinlist(li,midpoint+1,ei,x)"
   ]
  },
  {
   "cell_type": "code",
   "execution_count": 35,
   "id": "fe7a8685",
   "metadata": {},
   "outputs": [
    {
     "data": {
      "text/plain": [
       "2"
      ]
     },
     "execution_count": 35,
     "metadata": {},
     "output_type": "execute_result"
    }
   ],
   "source": [
    "li = [1,2,3,4,5,6,7,8,9]\n",
    "binarysearchinlist(li,0,len(li)-1,3)"
   ]
  },
  {
   "cell_type": "markdown",
   "id": "5eb87652",
   "metadata": {},
   "source": [
    "### MergeSort"
   ]
  },
  {
   "cell_type": "code",
   "execution_count": 45,
   "id": "989a43f5",
   "metadata": {},
   "outputs": [],
   "source": [
    "def merge_sorted_list(l1,l2,l):\n",
    "    \n",
    "    i = 0\n",
    "    \n",
    "    j = 0\n",
    "    \n",
    "    k = 0\n",
    "    \n",
    "    while i < len(l1) and j < len(l2):\n",
    "        \n",
    "        if l1[i] < l2[j]:\n",
    "            \n",
    "            l[k] = l1[i]\n",
    "            i = i + 1\n",
    "            k = k + 1\n",
    "            \n",
    "        else:\n",
    "            l[k] = l2[j]\n",
    "            j = j + 1\n",
    "            k = k + 1\n",
    "            \n",
    "    while i < len(l1):\n",
    "        \n",
    "        l[k] = l1[i]\n",
    "        i = i + 1\n",
    "        k = k + 1\n",
    "        \n",
    "    while j < len(l2):\n",
    "        l[k] = l2[j]\n",
    "        \n",
    "        j = j + 1\n",
    "        k = k + 1\n",
    "        \n",
    "        \n",
    "def mergesort(li,start,end):\n",
    "    \n",
    "    if len(li) == 0 or len(li) == 1:\n",
    "        \n",
    "        return\n",
    "    mid = len(li)//2\n",
    "    \n",
    "    a1 = li[0:mid]\n",
    "    a2 = li[mid:]\n",
    "    \n",
    "    mergesort(a1,0,mid)\n",
    "    mergesort(a2,mid,end)\n",
    "    \n",
    "    merge_sorted_list(a1,a2,a3)\n",
    "    \n",
    "    return merge_sorted_list\n",
    "\n"
   ]
  },
  {
   "cell_type": "markdown",
   "id": "02bdd9c6",
   "metadata": {},
   "source": [
    "### Quick Sort"
   ]
  },
  {
   "cell_type": "code",
   "execution_count": 46,
   "id": "6b8fee7c",
   "metadata": {},
   "outputs": [],
   "source": [
    "def partition(li,si,pi):\n",
    "    \n",
    "    pivotelement = li[si]\n",
    "    \n",
    "    count = 0\n",
    "    \n",
    "    for i in range(len(li)):\n",
    "        \n",
    "        if li[i] < pivotelement:\n",
    "            count = count + 1\n",
    "            \n",
    "    li[si],li[si+c] = li[si+c],li[si]\n",
    "    \n",
    "    pivot_index = si+c\n",
    "    \n",
    "    #Now we need to jut check the element left and right of the pivotelement and move them\n",
    "    \n",
    "    i = si\n",
    "    j = ei\n",
    "    \n",
    "    while i < j:\n",
    "        \n",
    "        if li[si] < pivotelement:\n",
    "            i = i + 1\n",
    "            \n",
    "        elif li[ei] > pivotelement:\n",
    "            j = j - 1\n",
    "            \n",
    "        else:\n",
    "            li[si],li[ei] = li[ei],li[si]\n",
    "            i = i + 1\n",
    "            j = j + 1\n",
    "            \n",
    "    return pivot_index\n",
    "        \n",
    "        \n",
    "        \n",
    "def quicksort(li,si,ei):\n",
    "    \n",
    "    if si > ei:\n",
    "        return\n",
    "    \n",
    "    p = partition(li,si,ei)\n",
    "    \n",
    "    quicksort(li,si,p-1)\n",
    "    quicksort(li,si,p+1)\n",
    "    \n",
    "    \n",
    "    \n",
    "    "
   ]
  },
  {
   "cell_type": "markdown",
   "id": "e97755d3",
   "metadata": {},
   "source": [
    "### Tower of Hanoi\n",
    "\n"
   ]
  },
  {
   "cell_type": "code",
   "execution_count": 48,
   "id": "df8ea635",
   "metadata": {},
   "outputs": [],
   "source": [
    "def towerofhanoi(n, source, aux, dest):\n",
    "\n",
    "    \n",
    "    if n == 1:\n",
    "        print(\"Already moved\")\n",
    "        return\n",
    "    if n == 0:\n",
    "        return\n",
    "    \n",
    "    towerofhanoi(n-1,source,dest,aux)\n",
    "    \n",
    "    print(source,dest)\n",
    "    \n",
    "    towerofhanoi(n-1,aux,source,dest)"
   ]
  },
  {
   "cell_type": "code",
   "execution_count": 49,
   "id": "5ce6c8a1",
   "metadata": {},
   "outputs": [
    {
     "name": "stdout",
     "output_type": "stream",
     "text": [
      "4\n",
      "Already moved\n",
      "a c\n",
      "Already moved\n",
      "a b\n",
      "Already moved\n",
      "c b\n",
      "Already moved\n",
      "a c\n",
      "Already moved\n",
      "b a\n",
      "Already moved\n",
      "b c\n",
      "Already moved\n",
      "a c\n",
      "Already moved\n"
     ]
    }
   ],
   "source": [
    "n=int(input())\n",
    "towerofhanoi(n, 'a', 'b', 'c')"
   ]
  },
  {
   "cell_type": "code",
   "execution_count": null,
   "id": "96906fd3",
   "metadata": {},
   "outputs": [],
   "source": []
  }
 ],
 "metadata": {
  "kernelspec": {
   "display_name": "Python 3 (ipykernel)",
   "language": "python",
   "name": "python3"
  },
  "language_info": {
   "codemirror_mode": {
    "name": "ipython",
    "version": 3
   },
   "file_extension": ".py",
   "mimetype": "text/x-python",
   "name": "python",
   "nbconvert_exporter": "python",
   "pygments_lexer": "ipython3",
   "version": "3.11.4"
  }
 },
 "nbformat": 4,
 "nbformat_minor": 5
}
